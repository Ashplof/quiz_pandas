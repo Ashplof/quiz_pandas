{
 "cells": [
  {
   "cell_type": "markdown",
   "metadata": {
    "author": "Alper.Halbutogullari@gmail.com © 2018"
   },
   "source": [
    "# Pandas tutorial quiz no answers\n",
    "\n",
    "sergazy.nurbavliyev@gmail.com and admrggs@gmail.com @2021"
   ]
  },
  {
   "cell_type": "markdown",
   "metadata": {},
   "source": [
    "<B>Note</B>: This quiz is about <B>Pandas</B>, so please only use Pandas!"
   ]
  },
  {
   "cell_type": "markdown",
   "metadata": {},
   "source": [
    "This quiz includes the answers in encrypted form. The results are encrypted using \"md5\". I could have easily used \"sha256\" or \"sha512\" (both of which have the same API), but I preferred md5 to keep results short.\n",
    "\n",
    "You will see the following \"check\" function called throughout the Quiz. Please do not touch those lines. They include the answers and will provide feedback to your results."
   ]
  },
  {
   "cell_type": "code",
   "execution_count": 104,
   "metadata": {},
   "outputs": [],
   "source": [
    "# imports\n",
    "import numpy as np\n",
    "import pandas as pd\n",
    "\n",
    "from hashlib import md5 #, sha512, sha256, \n",
    "\n",
    "# Constants\n",
    "STOP_AT_ERRORS = True  # Change this to \"False\" to avoid stopping execution on errors"
   ]
  },
  {
   "cell_type": "code",
   "execution_count": 105,
   "metadata": {},
   "outputs": [],
   "source": [
    "answers = [\"NO ANSWER\"]*20"
   ]
  },
  {
   "cell_type": "code",
   "execution_count": 106,
   "metadata": {},
   "outputs": [],
   "source": [
    "# Do not change anything in this cell!\n",
    "def check(question_number, result, md5_digest_of_expected_result):\n",
    "    result_str = \"\"\n",
    "    if type(result) is list:\n",
    "        for r in result:\n",
    "            result_str += str(r)+\"\\n\"\n",
    "    else:\n",
    "        result_str = str(result)+\"\\n\"\n",
    "\n",
    "    if question_number > 0:\n",
    "        answers[question_number-1] = result_str\n",
    "\n",
    "    md5_digest_of_result =  md5(result_str.encode()).hexdigest()\n",
    "    if md5_digest_of_result != md5_digest_of_expected_result:\n",
    "        print(\"ERROR: The result is NOT correct!\")\n",
    "        assert(not STOP_AT_ERRORS)\n",
    "    else:\n",
    "        print(\"The result is CORRECT!\")"
   ]
  },
  {
   "cell_type": "markdown",
   "metadata": {},
   "source": [
    "Let's read the input files into Pandas dataframes:"
   ]
  },
  {
   "cell_type": "code",
   "execution_count": 107,
   "metadata": {},
   "outputs": [],
   "source": [
    "departments_filename = \"Departments.csv\"\n",
    "employees_filename = \"Employees.csv\""
   ]
  },
  {
   "cell_type": "code",
   "execution_count": 111,
   "metadata": {
    "scrolled": true
   },
   "outputs": [
    {
     "data": {
      "text/html": [
       "<div>\n",
       "<style scoped>\n",
       "    .dataframe tbody tr th:only-of-type {\n",
       "        vertical-align: middle;\n",
       "    }\n",
       "\n",
       "    .dataframe tbody tr th {\n",
       "        vertical-align: top;\n",
       "    }\n",
       "\n",
       "    .dataframe thead th {\n",
       "        text-align: right;\n",
       "    }\n",
       "</style>\n",
       "<table border=\"1\" class=\"dataframe\">\n",
       "  <thead>\n",
       "    <tr style=\"text-align: right;\">\n",
       "      <th></th>\n",
       "      <th>Department ID</th>\n",
       "      <th>Department</th>\n",
       "    </tr>\n",
       "  </thead>\n",
       "  <tbody>\n",
       "    <tr>\n",
       "      <th>0</th>\n",
       "      <td>1</td>\n",
       "      <td>EXECUTIVE TEAM</td>\n",
       "    </tr>\n",
       "    <tr>\n",
       "      <th>1</th>\n",
       "      <td>2</td>\n",
       "      <td>ENGINEERING</td>\n",
       "    </tr>\n",
       "    <tr>\n",
       "      <th>2</th>\n",
       "      <td>3</td>\n",
       "      <td>HUMAN RESOURCES</td>\n",
       "    </tr>\n",
       "    <tr>\n",
       "      <th>3</th>\n",
       "      <td>4</td>\n",
       "      <td>SALES</td>\n",
       "    </tr>\n",
       "    <tr>\n",
       "      <th>4</th>\n",
       "      <td>5</td>\n",
       "      <td>ADMIN</td>\n",
       "    </tr>\n",
       "    <tr>\n",
       "      <th>5</th>\n",
       "      <td>6</td>\n",
       "      <td>FINANCE</td>\n",
       "    </tr>\n",
       "    <tr>\n",
       "      <th>6</th>\n",
       "      <td>7</td>\n",
       "      <td>MARKETING</td>\n",
       "    </tr>\n",
       "    <tr>\n",
       "      <th>7</th>\n",
       "      <td>8</td>\n",
       "      <td>IT</td>\n",
       "    </tr>\n",
       "  </tbody>\n",
       "</table>\n",
       "</div>"
      ],
      "text/plain": [
       "   Department ID       Department\n",
       "0              1   EXECUTIVE TEAM\n",
       "1              2      ENGINEERING\n",
       "2              3  HUMAN RESOURCES\n",
       "3              4            SALES\n",
       "4              5            ADMIN\n",
       "5              6          FINANCE\n",
       "6              7        MARKETING\n",
       "7              8               IT"
      ]
     },
     "execution_count": 111,
     "metadata": {},
     "output_type": "execute_result"
    }
   ],
   "source": [
    "departments_df  = pd.read_csv(departments_filename)\n",
    "departments_df"
   ]
  },
  {
   "cell_type": "code",
   "execution_count": 70,
   "metadata": {},
   "outputs": [
    {
     "data": {
      "text/html": [
       "<div>\n",
       "<style scoped>\n",
       "    .dataframe tbody tr th:only-of-type {\n",
       "        vertical-align: middle;\n",
       "    }\n",
       "\n",
       "    .dataframe tbody tr th {\n",
       "        vertical-align: top;\n",
       "    }\n",
       "\n",
       "    .dataframe thead th {\n",
       "        text-align: right;\n",
       "    }\n",
       "</style>\n",
       "<table border=\"1\" class=\"dataframe\">\n",
       "  <thead>\n",
       "    <tr style=\"text-align: right;\">\n",
       "      <th></th>\n",
       "      <th>Employee ID</th>\n",
       "      <th>Name</th>\n",
       "      <th>Last Name</th>\n",
       "      <th>Title</th>\n",
       "      <th>Manager ID</th>\n",
       "      <th>Department ID</th>\n",
       "      <th>Hiring Date</th>\n",
       "      <th>Salary</th>\n",
       "    </tr>\n",
       "  </thead>\n",
       "  <tbody>\n",
       "    <tr>\n",
       "      <th>0</th>\n",
       "      <td>1</td>\n",
       "      <td>ALBERT</td>\n",
       "      <td>ADAMS</td>\n",
       "      <td>CEO</td>\n",
       "      <td>0</td>\n",
       "      <td>1</td>\n",
       "      <td>2000-01-05</td>\n",
       "      <td>1000000</td>\n",
       "    </tr>\n",
       "    <tr>\n",
       "      <th>1</th>\n",
       "      <td>2</td>\n",
       "      <td>BILL</td>\n",
       "      <td>BABBLE</td>\n",
       "      <td>CTO</td>\n",
       "      <td>1</td>\n",
       "      <td>1</td>\n",
       "      <td>2000-01-05</td>\n",
       "      <td>500000</td>\n",
       "    </tr>\n",
       "    <tr>\n",
       "      <th>2</th>\n",
       "      <td>3</td>\n",
       "      <td>CAROL</td>\n",
       "      <td>CRAFT</td>\n",
       "      <td>CFO</td>\n",
       "      <td>1</td>\n",
       "      <td>1</td>\n",
       "      <td>2000-01-05</td>\n",
       "      <td>500000</td>\n",
       "    </tr>\n",
       "    <tr>\n",
       "      <th>3</th>\n",
       "      <td>4</td>\n",
       "      <td>DIANA</td>\n",
       "      <td>DEW</td>\n",
       "      <td>CIO</td>\n",
       "      <td>1</td>\n",
       "      <td>1</td>\n",
       "      <td>2000-01-05</td>\n",
       "      <td>500000</td>\n",
       "    </tr>\n",
       "    <tr>\n",
       "      <th>4</th>\n",
       "      <td>5</td>\n",
       "      <td>EDWARD</td>\n",
       "      <td>EVES</td>\n",
       "      <td>VP</td>\n",
       "      <td>1</td>\n",
       "      <td>2</td>\n",
       "      <td>2001-02-13</td>\n",
       "      <td>300000</td>\n",
       "    </tr>\n",
       "    <tr>\n",
       "      <th>5</th>\n",
       "      <td>6</td>\n",
       "      <td>FRANK</td>\n",
       "      <td>FABIOS</td>\n",
       "      <td>VP</td>\n",
       "      <td>1</td>\n",
       "      <td>3</td>\n",
       "      <td>2001-02-23</td>\n",
       "      <td>300000</td>\n",
       "    </tr>\n",
       "    <tr>\n",
       "      <th>6</th>\n",
       "      <td>7</td>\n",
       "      <td>GARY</td>\n",
       "      <td>GARFIELD</td>\n",
       "      <td>DIRECTOR</td>\n",
       "      <td>5</td>\n",
       "      <td>2</td>\n",
       "      <td>2001-04-16</td>\n",
       "      <td>200000</td>\n",
       "    </tr>\n",
       "    <tr>\n",
       "      <th>7</th>\n",
       "      <td>8</td>\n",
       "      <td>HENRY</td>\n",
       "      <td>HOOVER</td>\n",
       "      <td>MANAGER</td>\n",
       "      <td>7</td>\n",
       "      <td>2</td>\n",
       "      <td>2001-05-28</td>\n",
       "      <td>150000</td>\n",
       "    </tr>\n",
       "    <tr>\n",
       "      <th>8</th>\n",
       "      <td>9</td>\n",
       "      <td>IRENE</td>\n",
       "      <td>ISLES</td>\n",
       "      <td>ENGINEER</td>\n",
       "      <td>8</td>\n",
       "      <td>2</td>\n",
       "      <td>2001-08-18</td>\n",
       "      <td>120000</td>\n",
       "    </tr>\n",
       "    <tr>\n",
       "      <th>9</th>\n",
       "      <td>10</td>\n",
       "      <td>JEREMY</td>\n",
       "      <td>JACKSON</td>\n",
       "      <td>ENGINEER</td>\n",
       "      <td>8</td>\n",
       "      <td>2</td>\n",
       "      <td>2001-07-19</td>\n",
       "      <td>80000</td>\n",
       "    </tr>\n",
       "    <tr>\n",
       "      <th>10</th>\n",
       "      <td>11</td>\n",
       "      <td>KIM</td>\n",
       "      <td>KRATER</td>\n",
       "      <td>ENGINEER</td>\n",
       "      <td>8</td>\n",
       "      <td>2</td>\n",
       "      <td>2001-06-03</td>\n",
       "      <td>90000</td>\n",
       "    </tr>\n",
       "    <tr>\n",
       "      <th>11</th>\n",
       "      <td>12</td>\n",
       "      <td>LAURA</td>\n",
       "      <td>LEE</td>\n",
       "      <td>VP</td>\n",
       "      <td>1</td>\n",
       "      <td>4</td>\n",
       "      <td>2001-10-14</td>\n",
       "      <td>200000</td>\n",
       "    </tr>\n",
       "    <tr>\n",
       "      <th>12</th>\n",
       "      <td>13</td>\n",
       "      <td>MAY</td>\n",
       "      <td>MOORE</td>\n",
       "      <td>ASSISTANT</td>\n",
       "      <td>1</td>\n",
       "      <td>5</td>\n",
       "      <td>2003-02-06</td>\n",
       "      <td>40000</td>\n",
       "    </tr>\n",
       "    <tr>\n",
       "      <th>13</th>\n",
       "      <td>14</td>\n",
       "      <td>NANCY</td>\n",
       "      <td>NEWARK</td>\n",
       "      <td>DIRECTOR</td>\n",
       "      <td>1</td>\n",
       "      <td>6</td>\n",
       "      <td>2001-09-30</td>\n",
       "      <td>120000</td>\n",
       "    </tr>\n",
       "    <tr>\n",
       "      <th>14</th>\n",
       "      <td>15</td>\n",
       "      <td>OSCAR</td>\n",
       "      <td>OSWALD</td>\n",
       "      <td>MANAGER</td>\n",
       "      <td>14</td>\n",
       "      <td>6</td>\n",
       "      <td>2002-03-22</td>\n",
       "      <td>80000</td>\n",
       "    </tr>\n",
       "    <tr>\n",
       "      <th>15</th>\n",
       "      <td>16</td>\n",
       "      <td>PENNY</td>\n",
       "      <td>PEABODY</td>\n",
       "      <td>ACCOUNTANT</td>\n",
       "      <td>15</td>\n",
       "      <td>6</td>\n",
       "      <td>2002-05-06</td>\n",
       "      <td>60000</td>\n",
       "    </tr>\n",
       "    <tr>\n",
       "      <th>16</th>\n",
       "      <td>17</td>\n",
       "      <td>QUINCY</td>\n",
       "      <td>QUINN</td>\n",
       "      <td>DIRECTOR</td>\n",
       "      <td>18</td>\n",
       "      <td>3</td>\n",
       "      <td>2002-01-22</td>\n",
       "      <td>120000</td>\n",
       "    </tr>\n",
       "    <tr>\n",
       "      <th>17</th>\n",
       "      <td>18</td>\n",
       "      <td>RYAN</td>\n",
       "      <td>REDFORD</td>\n",
       "      <td>RECRUITER</td>\n",
       "      <td>17</td>\n",
       "      <td>3</td>\n",
       "      <td>2002-06-13</td>\n",
       "      <td>60000</td>\n",
       "    </tr>\n",
       "    <tr>\n",
       "      <th>18</th>\n",
       "      <td>19</td>\n",
       "      <td>SALLY</td>\n",
       "      <td>SMITH</td>\n",
       "      <td>MANAGER</td>\n",
       "      <td>17</td>\n",
       "      <td>3</td>\n",
       "      <td>2002-07-14</td>\n",
       "      <td>80000</td>\n",
       "    </tr>\n",
       "    <tr>\n",
       "      <th>19</th>\n",
       "      <td>20</td>\n",
       "      <td>TOM</td>\n",
       "      <td>TIMBER</td>\n",
       "      <td>ENGINEER</td>\n",
       "      <td>21</td>\n",
       "      <td>2</td>\n",
       "      <td>2003-01-25</td>\n",
       "      <td>120000</td>\n",
       "    </tr>\n",
       "    <tr>\n",
       "      <th>20</th>\n",
       "      <td>21</td>\n",
       "      <td>UMA</td>\n",
       "      <td>ULLMAN</td>\n",
       "      <td>VP</td>\n",
       "      <td>1</td>\n",
       "      <td>7</td>\n",
       "      <td>2002-11-07</td>\n",
       "      <td>180000</td>\n",
       "    </tr>\n",
       "    <tr>\n",
       "      <th>21</th>\n",
       "      <td>22</td>\n",
       "      <td>VICKY</td>\n",
       "      <td>VINCENT</td>\n",
       "      <td>PM</td>\n",
       "      <td>21</td>\n",
       "      <td>7</td>\n",
       "      <td>2003-05-07</td>\n",
       "      <td>120000</td>\n",
       "    </tr>\n",
       "    <tr>\n",
       "      <th>22</th>\n",
       "      <td>23</td>\n",
       "      <td>WENDY</td>\n",
       "      <td>WILLIAMS</td>\n",
       "      <td>ENGINEER</td>\n",
       "      <td>8</td>\n",
       "      <td>2</td>\n",
       "      <td>2003-09-21</td>\n",
       "      <td>140000</td>\n",
       "    </tr>\n",
       "    <tr>\n",
       "      <th>23</th>\n",
       "      <td>24</td>\n",
       "      <td>XIN</td>\n",
       "      <td>XIANG</td>\n",
       "      <td>MANAGER</td>\n",
       "      <td>1</td>\n",
       "      <td>8</td>\n",
       "      <td>2001-01-03</td>\n",
       "      <td>80000</td>\n",
       "    </tr>\n",
       "    <tr>\n",
       "      <th>24</th>\n",
       "      <td>25</td>\n",
       "      <td>YANNY</td>\n",
       "      <td>YOUNG</td>\n",
       "      <td>IT SUPPORT</td>\n",
       "      <td>24</td>\n",
       "      <td>8</td>\n",
       "      <td>2001-08-13</td>\n",
       "      <td>50000</td>\n",
       "    </tr>\n",
       "    <tr>\n",
       "      <th>25</th>\n",
       "      <td>26</td>\n",
       "      <td>ZACK</td>\n",
       "      <td>ZIMMERMAN</td>\n",
       "      <td>IT SUPPORT</td>\n",
       "      <td>24</td>\n",
       "      <td>8</td>\n",
       "      <td>2002-02-09</td>\n",
       "      <td>43000</td>\n",
       "    </tr>\n",
       "  </tbody>\n",
       "</table>\n",
       "</div>"
      ],
      "text/plain": [
       "    Employee ID    Name  Last Name       Title  Manager ID  Department ID  \\\n",
       "0             1  ALBERT      ADAMS         CEO           0              1   \n",
       "1             2    BILL     BABBLE         CTO           1              1   \n",
       "2             3   CAROL      CRAFT         CFO           1              1   \n",
       "3             4   DIANA        DEW         CIO           1              1   \n",
       "4             5  EDWARD       EVES          VP           1              2   \n",
       "5             6   FRANK     FABIOS          VP           1              3   \n",
       "6             7    GARY   GARFIELD    DIRECTOR           5              2   \n",
       "7             8   HENRY     HOOVER     MANAGER           7              2   \n",
       "8             9   IRENE      ISLES    ENGINEER           8              2   \n",
       "9            10  JEREMY    JACKSON    ENGINEER           8              2   \n",
       "10           11     KIM     KRATER    ENGINEER           8              2   \n",
       "11           12   LAURA        LEE          VP           1              4   \n",
       "12           13     MAY      MOORE   ASSISTANT           1              5   \n",
       "13           14   NANCY     NEWARK    DIRECTOR           1              6   \n",
       "14           15   OSCAR     OSWALD     MANAGER          14              6   \n",
       "15           16   PENNY    PEABODY  ACCOUNTANT          15              6   \n",
       "16           17  QUINCY      QUINN    DIRECTOR          18              3   \n",
       "17           18    RYAN    REDFORD   RECRUITER          17              3   \n",
       "18           19   SALLY      SMITH     MANAGER          17              3   \n",
       "19           20     TOM     TIMBER    ENGINEER          21              2   \n",
       "20           21     UMA     ULLMAN          VP           1              7   \n",
       "21           22   VICKY    VINCENT          PM          21              7   \n",
       "22           23   WENDY   WILLIAMS    ENGINEER           8              2   \n",
       "23           24     XIN      XIANG     MANAGER           1              8   \n",
       "24           25   YANNY      YOUNG  IT SUPPORT          24              8   \n",
       "25           26    ZACK  ZIMMERMAN  IT SUPPORT          24              8   \n",
       "\n",
       "   Hiring Date   Salary  \n",
       "0   2000-01-05  1000000  \n",
       "1   2000-01-05   500000  \n",
       "2   2000-01-05   500000  \n",
       "3   2000-01-05   500000  \n",
       "4   2001-02-13   300000  \n",
       "5   2001-02-23   300000  \n",
       "6   2001-04-16   200000  \n",
       "7   2001-05-28   150000  \n",
       "8   2001-08-18   120000  \n",
       "9   2001-07-19    80000  \n",
       "10  2001-06-03    90000  \n",
       "11  2001-10-14   200000  \n",
       "12  2003-02-06    40000  \n",
       "13  2001-09-30   120000  \n",
       "14  2002-03-22    80000  \n",
       "15  2002-05-06    60000  \n",
       "16  2002-01-22   120000  \n",
       "17  2002-06-13    60000  \n",
       "18  2002-07-14    80000  \n",
       "19  2003-01-25   120000  \n",
       "20  2002-11-07   180000  \n",
       "21  2003-05-07   120000  \n",
       "22  2003-09-21   140000  \n",
       "23  2001-01-03    80000  \n",
       "24  2001-08-13    50000  \n",
       "25  2002-02-09    43000  "
      ]
     },
     "execution_count": 70,
     "metadata": {},
     "output_type": "execute_result"
    }
   ],
   "source": [
    "employees_df  = pd.read_csv(employees_filename)\n",
    "employees_df"
   ]
  },
  {
   "cell_type": "markdown",
   "metadata": {},
   "source": [
    "Let's substitute the Department Names for \"Department ID\"s (and sort by \"Employee ID\"s as the original data was in that format and reset the index), so that we can work with a single data frame going forward:"
   ]
  },
  {
   "cell_type": "code",
   "execution_count": 112,
   "metadata": {},
   "outputs": [
    {
     "data": {
      "text/html": [
       "<div>\n",
       "<style scoped>\n",
       "    .dataframe tbody tr th:only-of-type {\n",
       "        vertical-align: middle;\n",
       "    }\n",
       "\n",
       "    .dataframe tbody tr th {\n",
       "        vertical-align: top;\n",
       "    }\n",
       "\n",
       "    .dataframe thead th {\n",
       "        text-align: right;\n",
       "    }\n",
       "</style>\n",
       "<table border=\"1\" class=\"dataframe\">\n",
       "  <thead>\n",
       "    <tr style=\"text-align: right;\">\n",
       "      <th></th>\n",
       "      <th>Employee ID</th>\n",
       "      <th>Name</th>\n",
       "      <th>Last Name</th>\n",
       "      <th>Title</th>\n",
       "      <th>Manager ID</th>\n",
       "      <th>Department ID</th>\n",
       "      <th>Hiring Date</th>\n",
       "      <th>Salary</th>\n",
       "      <th>Department</th>\n",
       "    </tr>\n",
       "  </thead>\n",
       "  <tbody>\n",
       "    <tr>\n",
       "      <th>0</th>\n",
       "      <td>1</td>\n",
       "      <td>ALBERT</td>\n",
       "      <td>ADAMS</td>\n",
       "      <td>CEO</td>\n",
       "      <td>0</td>\n",
       "      <td>1</td>\n",
       "      <td>2000-01-05</td>\n",
       "      <td>1000000</td>\n",
       "      <td>EXECUTIVE TEAM</td>\n",
       "    </tr>\n",
       "    <tr>\n",
       "      <th>1</th>\n",
       "      <td>2</td>\n",
       "      <td>BILL</td>\n",
       "      <td>BABBLE</td>\n",
       "      <td>CTO</td>\n",
       "      <td>1</td>\n",
       "      <td>1</td>\n",
       "      <td>2000-01-05</td>\n",
       "      <td>500000</td>\n",
       "      <td>EXECUTIVE TEAM</td>\n",
       "    </tr>\n",
       "    <tr>\n",
       "      <th>2</th>\n",
       "      <td>3</td>\n",
       "      <td>CAROL</td>\n",
       "      <td>CRAFT</td>\n",
       "      <td>CFO</td>\n",
       "      <td>1</td>\n",
       "      <td>1</td>\n",
       "      <td>2000-01-05</td>\n",
       "      <td>500000</td>\n",
       "      <td>EXECUTIVE TEAM</td>\n",
       "    </tr>\n",
       "    <tr>\n",
       "      <th>3</th>\n",
       "      <td>4</td>\n",
       "      <td>DIANA</td>\n",
       "      <td>DEW</td>\n",
       "      <td>CIO</td>\n",
       "      <td>1</td>\n",
       "      <td>1</td>\n",
       "      <td>2000-01-05</td>\n",
       "      <td>500000</td>\n",
       "      <td>EXECUTIVE TEAM</td>\n",
       "    </tr>\n",
       "    <tr>\n",
       "      <th>4</th>\n",
       "      <td>5</td>\n",
       "      <td>EDWARD</td>\n",
       "      <td>EVES</td>\n",
       "      <td>VP</td>\n",
       "      <td>1</td>\n",
       "      <td>2</td>\n",
       "      <td>2001-02-13</td>\n",
       "      <td>300000</td>\n",
       "      <td>ENGINEERING</td>\n",
       "    </tr>\n",
       "    <tr>\n",
       "      <th>5</th>\n",
       "      <td>6</td>\n",
       "      <td>FRANK</td>\n",
       "      <td>FABIOS</td>\n",
       "      <td>VP</td>\n",
       "      <td>1</td>\n",
       "      <td>3</td>\n",
       "      <td>2001-02-23</td>\n",
       "      <td>300000</td>\n",
       "      <td>HUMAN RESOURCES</td>\n",
       "    </tr>\n",
       "    <tr>\n",
       "      <th>6</th>\n",
       "      <td>7</td>\n",
       "      <td>GARY</td>\n",
       "      <td>GARFIELD</td>\n",
       "      <td>DIRECTOR</td>\n",
       "      <td>5</td>\n",
       "      <td>2</td>\n",
       "      <td>2001-04-16</td>\n",
       "      <td>200000</td>\n",
       "      <td>ENGINEERING</td>\n",
       "    </tr>\n",
       "    <tr>\n",
       "      <th>7</th>\n",
       "      <td>8</td>\n",
       "      <td>HENRY</td>\n",
       "      <td>HOOVER</td>\n",
       "      <td>MANAGER</td>\n",
       "      <td>7</td>\n",
       "      <td>2</td>\n",
       "      <td>2001-05-28</td>\n",
       "      <td>150000</td>\n",
       "      <td>ENGINEERING</td>\n",
       "    </tr>\n",
       "    <tr>\n",
       "      <th>8</th>\n",
       "      <td>9</td>\n",
       "      <td>IRENE</td>\n",
       "      <td>ISLES</td>\n",
       "      <td>ENGINEER</td>\n",
       "      <td>8</td>\n",
       "      <td>2</td>\n",
       "      <td>2001-08-18</td>\n",
       "      <td>120000</td>\n",
       "      <td>ENGINEERING</td>\n",
       "    </tr>\n",
       "    <tr>\n",
       "      <th>9</th>\n",
       "      <td>10</td>\n",
       "      <td>JEREMY</td>\n",
       "      <td>JACKSON</td>\n",
       "      <td>ENGINEER</td>\n",
       "      <td>8</td>\n",
       "      <td>2</td>\n",
       "      <td>2001-07-19</td>\n",
       "      <td>80000</td>\n",
       "      <td>ENGINEERING</td>\n",
       "    </tr>\n",
       "    <tr>\n",
       "      <th>10</th>\n",
       "      <td>11</td>\n",
       "      <td>KIM</td>\n",
       "      <td>KRATER</td>\n",
       "      <td>ENGINEER</td>\n",
       "      <td>8</td>\n",
       "      <td>2</td>\n",
       "      <td>2001-06-03</td>\n",
       "      <td>90000</td>\n",
       "      <td>ENGINEERING</td>\n",
       "    </tr>\n",
       "    <tr>\n",
       "      <th>11</th>\n",
       "      <td>12</td>\n",
       "      <td>LAURA</td>\n",
       "      <td>LEE</td>\n",
       "      <td>VP</td>\n",
       "      <td>1</td>\n",
       "      <td>4</td>\n",
       "      <td>2001-10-14</td>\n",
       "      <td>200000</td>\n",
       "      <td>SALES</td>\n",
       "    </tr>\n",
       "    <tr>\n",
       "      <th>12</th>\n",
       "      <td>13</td>\n",
       "      <td>MAY</td>\n",
       "      <td>MOORE</td>\n",
       "      <td>ASSISTANT</td>\n",
       "      <td>1</td>\n",
       "      <td>5</td>\n",
       "      <td>2003-02-06</td>\n",
       "      <td>40000</td>\n",
       "      <td>ADMIN</td>\n",
       "    </tr>\n",
       "    <tr>\n",
       "      <th>13</th>\n",
       "      <td>14</td>\n",
       "      <td>NANCY</td>\n",
       "      <td>NEWARK</td>\n",
       "      <td>DIRECTOR</td>\n",
       "      <td>1</td>\n",
       "      <td>6</td>\n",
       "      <td>2001-09-30</td>\n",
       "      <td>120000</td>\n",
       "      <td>FINANCE</td>\n",
       "    </tr>\n",
       "    <tr>\n",
       "      <th>14</th>\n",
       "      <td>15</td>\n",
       "      <td>OSCAR</td>\n",
       "      <td>OSWALD</td>\n",
       "      <td>MANAGER</td>\n",
       "      <td>14</td>\n",
       "      <td>6</td>\n",
       "      <td>2002-03-22</td>\n",
       "      <td>80000</td>\n",
       "      <td>FINANCE</td>\n",
       "    </tr>\n",
       "    <tr>\n",
       "      <th>15</th>\n",
       "      <td>16</td>\n",
       "      <td>PENNY</td>\n",
       "      <td>PEABODY</td>\n",
       "      <td>ACCOUNTANT</td>\n",
       "      <td>15</td>\n",
       "      <td>6</td>\n",
       "      <td>2002-05-06</td>\n",
       "      <td>60000</td>\n",
       "      <td>FINANCE</td>\n",
       "    </tr>\n",
       "    <tr>\n",
       "      <th>16</th>\n",
       "      <td>17</td>\n",
       "      <td>QUINCY</td>\n",
       "      <td>QUINN</td>\n",
       "      <td>DIRECTOR</td>\n",
       "      <td>18</td>\n",
       "      <td>3</td>\n",
       "      <td>2002-01-22</td>\n",
       "      <td>120000</td>\n",
       "      <td>HUMAN RESOURCES</td>\n",
       "    </tr>\n",
       "    <tr>\n",
       "      <th>17</th>\n",
       "      <td>18</td>\n",
       "      <td>RYAN</td>\n",
       "      <td>REDFORD</td>\n",
       "      <td>RECRUITER</td>\n",
       "      <td>17</td>\n",
       "      <td>3</td>\n",
       "      <td>2002-06-13</td>\n",
       "      <td>60000</td>\n",
       "      <td>HUMAN RESOURCES</td>\n",
       "    </tr>\n",
       "    <tr>\n",
       "      <th>18</th>\n",
       "      <td>19</td>\n",
       "      <td>SALLY</td>\n",
       "      <td>SMITH</td>\n",
       "      <td>MANAGER</td>\n",
       "      <td>17</td>\n",
       "      <td>3</td>\n",
       "      <td>2002-07-14</td>\n",
       "      <td>80000</td>\n",
       "      <td>HUMAN RESOURCES</td>\n",
       "    </tr>\n",
       "    <tr>\n",
       "      <th>19</th>\n",
       "      <td>20</td>\n",
       "      <td>TOM</td>\n",
       "      <td>TIMBER</td>\n",
       "      <td>ENGINEER</td>\n",
       "      <td>21</td>\n",
       "      <td>2</td>\n",
       "      <td>2003-01-25</td>\n",
       "      <td>120000</td>\n",
       "      <td>ENGINEERING</td>\n",
       "    </tr>\n",
       "    <tr>\n",
       "      <th>20</th>\n",
       "      <td>21</td>\n",
       "      <td>UMA</td>\n",
       "      <td>ULLMAN</td>\n",
       "      <td>VP</td>\n",
       "      <td>1</td>\n",
       "      <td>7</td>\n",
       "      <td>2002-11-07</td>\n",
       "      <td>180000</td>\n",
       "      <td>MARKETING</td>\n",
       "    </tr>\n",
       "    <tr>\n",
       "      <th>21</th>\n",
       "      <td>22</td>\n",
       "      <td>VICKY</td>\n",
       "      <td>VINCENT</td>\n",
       "      <td>PM</td>\n",
       "      <td>21</td>\n",
       "      <td>7</td>\n",
       "      <td>2003-05-07</td>\n",
       "      <td>120000</td>\n",
       "      <td>MARKETING</td>\n",
       "    </tr>\n",
       "    <tr>\n",
       "      <th>22</th>\n",
       "      <td>23</td>\n",
       "      <td>WENDY</td>\n",
       "      <td>WILLIAMS</td>\n",
       "      <td>ENGINEER</td>\n",
       "      <td>8</td>\n",
       "      <td>2</td>\n",
       "      <td>2003-09-21</td>\n",
       "      <td>140000</td>\n",
       "      <td>ENGINEERING</td>\n",
       "    </tr>\n",
       "    <tr>\n",
       "      <th>23</th>\n",
       "      <td>24</td>\n",
       "      <td>XIN</td>\n",
       "      <td>XIANG</td>\n",
       "      <td>MANAGER</td>\n",
       "      <td>1</td>\n",
       "      <td>8</td>\n",
       "      <td>2001-01-03</td>\n",
       "      <td>80000</td>\n",
       "      <td>IT</td>\n",
       "    </tr>\n",
       "    <tr>\n",
       "      <th>24</th>\n",
       "      <td>25</td>\n",
       "      <td>YANNY</td>\n",
       "      <td>YOUNG</td>\n",
       "      <td>IT SUPPORT</td>\n",
       "      <td>24</td>\n",
       "      <td>8</td>\n",
       "      <td>2001-08-13</td>\n",
       "      <td>50000</td>\n",
       "      <td>IT</td>\n",
       "    </tr>\n",
       "    <tr>\n",
       "      <th>25</th>\n",
       "      <td>26</td>\n",
       "      <td>ZACK</td>\n",
       "      <td>ZIMMERMAN</td>\n",
       "      <td>IT SUPPORT</td>\n",
       "      <td>24</td>\n",
       "      <td>8</td>\n",
       "      <td>2002-02-09</td>\n",
       "      <td>43000</td>\n",
       "      <td>IT</td>\n",
       "    </tr>\n",
       "  </tbody>\n",
       "</table>\n",
       "</div>"
      ],
      "text/plain": [
       "    Employee ID    Name  Last Name       Title  Manager ID  Department ID  \\\n",
       "0             1  ALBERT      ADAMS         CEO           0              1   \n",
       "1             2    BILL     BABBLE         CTO           1              1   \n",
       "2             3   CAROL      CRAFT         CFO           1              1   \n",
       "3             4   DIANA        DEW         CIO           1              1   \n",
       "4             5  EDWARD       EVES          VP           1              2   \n",
       "5             6   FRANK     FABIOS          VP           1              3   \n",
       "6             7    GARY   GARFIELD    DIRECTOR           5              2   \n",
       "7             8   HENRY     HOOVER     MANAGER           7              2   \n",
       "8             9   IRENE      ISLES    ENGINEER           8              2   \n",
       "9            10  JEREMY    JACKSON    ENGINEER           8              2   \n",
       "10           11     KIM     KRATER    ENGINEER           8              2   \n",
       "11           12   LAURA        LEE          VP           1              4   \n",
       "12           13     MAY      MOORE   ASSISTANT           1              5   \n",
       "13           14   NANCY     NEWARK    DIRECTOR           1              6   \n",
       "14           15   OSCAR     OSWALD     MANAGER          14              6   \n",
       "15           16   PENNY    PEABODY  ACCOUNTANT          15              6   \n",
       "16           17  QUINCY      QUINN    DIRECTOR          18              3   \n",
       "17           18    RYAN    REDFORD   RECRUITER          17              3   \n",
       "18           19   SALLY      SMITH     MANAGER          17              3   \n",
       "19           20     TOM     TIMBER    ENGINEER          21              2   \n",
       "20           21     UMA     ULLMAN          VP           1              7   \n",
       "21           22   VICKY    VINCENT          PM          21              7   \n",
       "22           23   WENDY   WILLIAMS    ENGINEER           8              2   \n",
       "23           24     XIN      XIANG     MANAGER           1              8   \n",
       "24           25   YANNY      YOUNG  IT SUPPORT          24              8   \n",
       "25           26    ZACK  ZIMMERMAN  IT SUPPORT          24              8   \n",
       "\n",
       "   Hiring Date   Salary       Department  \n",
       "0   2000-01-05  1000000   EXECUTIVE TEAM  \n",
       "1   2000-01-05   500000   EXECUTIVE TEAM  \n",
       "2   2000-01-05   500000   EXECUTIVE TEAM  \n",
       "3   2000-01-05   500000   EXECUTIVE TEAM  \n",
       "4   2001-02-13   300000      ENGINEERING  \n",
       "5   2001-02-23   300000  HUMAN RESOURCES  \n",
       "6   2001-04-16   200000      ENGINEERING  \n",
       "7   2001-05-28   150000      ENGINEERING  \n",
       "8   2001-08-18   120000      ENGINEERING  \n",
       "9   2001-07-19    80000      ENGINEERING  \n",
       "10  2001-06-03    90000      ENGINEERING  \n",
       "11  2001-10-14   200000            SALES  \n",
       "12  2003-02-06    40000            ADMIN  \n",
       "13  2001-09-30   120000          FINANCE  \n",
       "14  2002-03-22    80000          FINANCE  \n",
       "15  2002-05-06    60000          FINANCE  \n",
       "16  2002-01-22   120000  HUMAN RESOURCES  \n",
       "17  2002-06-13    60000  HUMAN RESOURCES  \n",
       "18  2002-07-14    80000  HUMAN RESOURCES  \n",
       "19  2003-01-25   120000      ENGINEERING  \n",
       "20  2002-11-07   180000        MARKETING  \n",
       "21  2003-05-07   120000        MARKETING  \n",
       "22  2003-09-21   140000      ENGINEERING  \n",
       "23  2001-01-03    80000               IT  \n",
       "24  2001-08-13    50000               IT  \n",
       "25  2002-02-09    43000               IT  "
      ]
     },
     "execution_count": 112,
     "metadata": {},
     "output_type": "execute_result"
    }
   ],
   "source": [
    "employees = pd.merge(employees_df, departments_df, on=\"Department ID\").sort_values(\"Employee ID\").reset_index(drop=True)\n",
    "employees"
   ]
  },
  {
   "cell_type": "markdown",
   "metadata": {},
   "source": [
    "Let's set the order of the columns, so that our results come out as expected:"
   ]
  },
  {
   "cell_type": "code",
   "execution_count": 113,
   "metadata": {},
   "outputs": [],
   "source": [
    "employees = employees[ [\"Employee ID\", \"Name\", \"Last Name\", \"Title\", \"Manager ID\",\n",
    "                        \"Hiring Date\", \"Salary\", \"Department\", \"Department ID\"] ]"
   ]
  },
  {
   "cell_type": "markdown",
   "metadata": {},
   "source": [
    "And finally let's change the dates (that are currently strings) into datetime so that we can treat them as time:"
   ]
  },
  {
   "cell_type": "code",
   "execution_count": 114,
   "metadata": {},
   "outputs": [],
   "source": [
    "import datetime as dt\n",
    "employees[\"Hiring Date\"] = pd.to_datetime(employees[\"Hiring Date\"])"
   ]
  },
  {
   "cell_type": "markdown",
   "metadata": {},
   "source": [
    "Here is our final data frame:"
   ]
  },
  {
   "cell_type": "code",
   "execution_count": 115,
   "metadata": {},
   "outputs": [
    {
     "data": {
      "text/html": [
       "<div>\n",
       "<style scoped>\n",
       "    .dataframe tbody tr th:only-of-type {\n",
       "        vertical-align: middle;\n",
       "    }\n",
       "\n",
       "    .dataframe tbody tr th {\n",
       "        vertical-align: top;\n",
       "    }\n",
       "\n",
       "    .dataframe thead th {\n",
       "        text-align: right;\n",
       "    }\n",
       "</style>\n",
       "<table border=\"1\" class=\"dataframe\">\n",
       "  <thead>\n",
       "    <tr style=\"text-align: right;\">\n",
       "      <th></th>\n",
       "      <th>Employee ID</th>\n",
       "      <th>Name</th>\n",
       "      <th>Last Name</th>\n",
       "      <th>Title</th>\n",
       "      <th>Manager ID</th>\n",
       "      <th>Hiring Date</th>\n",
       "      <th>Salary</th>\n",
       "      <th>Department</th>\n",
       "      <th>Department ID</th>\n",
       "    </tr>\n",
       "  </thead>\n",
       "  <tbody>\n",
       "    <tr>\n",
       "      <th>0</th>\n",
       "      <td>1</td>\n",
       "      <td>ALBERT</td>\n",
       "      <td>ADAMS</td>\n",
       "      <td>CEO</td>\n",
       "      <td>0</td>\n",
       "      <td>2000-01-05</td>\n",
       "      <td>1000000</td>\n",
       "      <td>EXECUTIVE TEAM</td>\n",
       "      <td>1</td>\n",
       "    </tr>\n",
       "    <tr>\n",
       "      <th>1</th>\n",
       "      <td>2</td>\n",
       "      <td>BILL</td>\n",
       "      <td>BABBLE</td>\n",
       "      <td>CTO</td>\n",
       "      <td>1</td>\n",
       "      <td>2000-01-05</td>\n",
       "      <td>500000</td>\n",
       "      <td>EXECUTIVE TEAM</td>\n",
       "      <td>1</td>\n",
       "    </tr>\n",
       "    <tr>\n",
       "      <th>2</th>\n",
       "      <td>3</td>\n",
       "      <td>CAROL</td>\n",
       "      <td>CRAFT</td>\n",
       "      <td>CFO</td>\n",
       "      <td>1</td>\n",
       "      <td>2000-01-05</td>\n",
       "      <td>500000</td>\n",
       "      <td>EXECUTIVE TEAM</td>\n",
       "      <td>1</td>\n",
       "    </tr>\n",
       "    <tr>\n",
       "      <th>3</th>\n",
       "      <td>4</td>\n",
       "      <td>DIANA</td>\n",
       "      <td>DEW</td>\n",
       "      <td>CIO</td>\n",
       "      <td>1</td>\n",
       "      <td>2000-01-05</td>\n",
       "      <td>500000</td>\n",
       "      <td>EXECUTIVE TEAM</td>\n",
       "      <td>1</td>\n",
       "    </tr>\n",
       "    <tr>\n",
       "      <th>4</th>\n",
       "      <td>5</td>\n",
       "      <td>EDWARD</td>\n",
       "      <td>EVES</td>\n",
       "      <td>VP</td>\n",
       "      <td>1</td>\n",
       "      <td>2001-02-13</td>\n",
       "      <td>300000</td>\n",
       "      <td>ENGINEERING</td>\n",
       "      <td>2</td>\n",
       "    </tr>\n",
       "    <tr>\n",
       "      <th>5</th>\n",
       "      <td>6</td>\n",
       "      <td>FRANK</td>\n",
       "      <td>FABIOS</td>\n",
       "      <td>VP</td>\n",
       "      <td>1</td>\n",
       "      <td>2001-02-23</td>\n",
       "      <td>300000</td>\n",
       "      <td>HUMAN RESOURCES</td>\n",
       "      <td>3</td>\n",
       "    </tr>\n",
       "    <tr>\n",
       "      <th>6</th>\n",
       "      <td>7</td>\n",
       "      <td>GARY</td>\n",
       "      <td>GARFIELD</td>\n",
       "      <td>DIRECTOR</td>\n",
       "      <td>5</td>\n",
       "      <td>2001-04-16</td>\n",
       "      <td>200000</td>\n",
       "      <td>ENGINEERING</td>\n",
       "      <td>2</td>\n",
       "    </tr>\n",
       "    <tr>\n",
       "      <th>7</th>\n",
       "      <td>8</td>\n",
       "      <td>HENRY</td>\n",
       "      <td>HOOVER</td>\n",
       "      <td>MANAGER</td>\n",
       "      <td>7</td>\n",
       "      <td>2001-05-28</td>\n",
       "      <td>150000</td>\n",
       "      <td>ENGINEERING</td>\n",
       "      <td>2</td>\n",
       "    </tr>\n",
       "    <tr>\n",
       "      <th>8</th>\n",
       "      <td>9</td>\n",
       "      <td>IRENE</td>\n",
       "      <td>ISLES</td>\n",
       "      <td>ENGINEER</td>\n",
       "      <td>8</td>\n",
       "      <td>2001-08-18</td>\n",
       "      <td>120000</td>\n",
       "      <td>ENGINEERING</td>\n",
       "      <td>2</td>\n",
       "    </tr>\n",
       "    <tr>\n",
       "      <th>9</th>\n",
       "      <td>10</td>\n",
       "      <td>JEREMY</td>\n",
       "      <td>JACKSON</td>\n",
       "      <td>ENGINEER</td>\n",
       "      <td>8</td>\n",
       "      <td>2001-07-19</td>\n",
       "      <td>80000</td>\n",
       "      <td>ENGINEERING</td>\n",
       "      <td>2</td>\n",
       "    </tr>\n",
       "    <tr>\n",
       "      <th>10</th>\n",
       "      <td>11</td>\n",
       "      <td>KIM</td>\n",
       "      <td>KRATER</td>\n",
       "      <td>ENGINEER</td>\n",
       "      <td>8</td>\n",
       "      <td>2001-06-03</td>\n",
       "      <td>90000</td>\n",
       "      <td>ENGINEERING</td>\n",
       "      <td>2</td>\n",
       "    </tr>\n",
       "    <tr>\n",
       "      <th>11</th>\n",
       "      <td>12</td>\n",
       "      <td>LAURA</td>\n",
       "      <td>LEE</td>\n",
       "      <td>VP</td>\n",
       "      <td>1</td>\n",
       "      <td>2001-10-14</td>\n",
       "      <td>200000</td>\n",
       "      <td>SALES</td>\n",
       "      <td>4</td>\n",
       "    </tr>\n",
       "    <tr>\n",
       "      <th>12</th>\n",
       "      <td>13</td>\n",
       "      <td>MAY</td>\n",
       "      <td>MOORE</td>\n",
       "      <td>ASSISTANT</td>\n",
       "      <td>1</td>\n",
       "      <td>2003-02-06</td>\n",
       "      <td>40000</td>\n",
       "      <td>ADMIN</td>\n",
       "      <td>5</td>\n",
       "    </tr>\n",
       "    <tr>\n",
       "      <th>13</th>\n",
       "      <td>14</td>\n",
       "      <td>NANCY</td>\n",
       "      <td>NEWARK</td>\n",
       "      <td>DIRECTOR</td>\n",
       "      <td>1</td>\n",
       "      <td>2001-09-30</td>\n",
       "      <td>120000</td>\n",
       "      <td>FINANCE</td>\n",
       "      <td>6</td>\n",
       "    </tr>\n",
       "    <tr>\n",
       "      <th>14</th>\n",
       "      <td>15</td>\n",
       "      <td>OSCAR</td>\n",
       "      <td>OSWALD</td>\n",
       "      <td>MANAGER</td>\n",
       "      <td>14</td>\n",
       "      <td>2002-03-22</td>\n",
       "      <td>80000</td>\n",
       "      <td>FINANCE</td>\n",
       "      <td>6</td>\n",
       "    </tr>\n",
       "    <tr>\n",
       "      <th>15</th>\n",
       "      <td>16</td>\n",
       "      <td>PENNY</td>\n",
       "      <td>PEABODY</td>\n",
       "      <td>ACCOUNTANT</td>\n",
       "      <td>15</td>\n",
       "      <td>2002-05-06</td>\n",
       "      <td>60000</td>\n",
       "      <td>FINANCE</td>\n",
       "      <td>6</td>\n",
       "    </tr>\n",
       "    <tr>\n",
       "      <th>16</th>\n",
       "      <td>17</td>\n",
       "      <td>QUINCY</td>\n",
       "      <td>QUINN</td>\n",
       "      <td>DIRECTOR</td>\n",
       "      <td>18</td>\n",
       "      <td>2002-01-22</td>\n",
       "      <td>120000</td>\n",
       "      <td>HUMAN RESOURCES</td>\n",
       "      <td>3</td>\n",
       "    </tr>\n",
       "    <tr>\n",
       "      <th>17</th>\n",
       "      <td>18</td>\n",
       "      <td>RYAN</td>\n",
       "      <td>REDFORD</td>\n",
       "      <td>RECRUITER</td>\n",
       "      <td>17</td>\n",
       "      <td>2002-06-13</td>\n",
       "      <td>60000</td>\n",
       "      <td>HUMAN RESOURCES</td>\n",
       "      <td>3</td>\n",
       "    </tr>\n",
       "    <tr>\n",
       "      <th>18</th>\n",
       "      <td>19</td>\n",
       "      <td>SALLY</td>\n",
       "      <td>SMITH</td>\n",
       "      <td>MANAGER</td>\n",
       "      <td>17</td>\n",
       "      <td>2002-07-14</td>\n",
       "      <td>80000</td>\n",
       "      <td>HUMAN RESOURCES</td>\n",
       "      <td>3</td>\n",
       "    </tr>\n",
       "    <tr>\n",
       "      <th>19</th>\n",
       "      <td>20</td>\n",
       "      <td>TOM</td>\n",
       "      <td>TIMBER</td>\n",
       "      <td>ENGINEER</td>\n",
       "      <td>21</td>\n",
       "      <td>2003-01-25</td>\n",
       "      <td>120000</td>\n",
       "      <td>ENGINEERING</td>\n",
       "      <td>2</td>\n",
       "    </tr>\n",
       "    <tr>\n",
       "      <th>20</th>\n",
       "      <td>21</td>\n",
       "      <td>UMA</td>\n",
       "      <td>ULLMAN</td>\n",
       "      <td>VP</td>\n",
       "      <td>1</td>\n",
       "      <td>2002-11-07</td>\n",
       "      <td>180000</td>\n",
       "      <td>MARKETING</td>\n",
       "      <td>7</td>\n",
       "    </tr>\n",
       "    <tr>\n",
       "      <th>21</th>\n",
       "      <td>22</td>\n",
       "      <td>VICKY</td>\n",
       "      <td>VINCENT</td>\n",
       "      <td>PM</td>\n",
       "      <td>21</td>\n",
       "      <td>2003-05-07</td>\n",
       "      <td>120000</td>\n",
       "      <td>MARKETING</td>\n",
       "      <td>7</td>\n",
       "    </tr>\n",
       "    <tr>\n",
       "      <th>22</th>\n",
       "      <td>23</td>\n",
       "      <td>WENDY</td>\n",
       "      <td>WILLIAMS</td>\n",
       "      <td>ENGINEER</td>\n",
       "      <td>8</td>\n",
       "      <td>2003-09-21</td>\n",
       "      <td>140000</td>\n",
       "      <td>ENGINEERING</td>\n",
       "      <td>2</td>\n",
       "    </tr>\n",
       "    <tr>\n",
       "      <th>23</th>\n",
       "      <td>24</td>\n",
       "      <td>XIN</td>\n",
       "      <td>XIANG</td>\n",
       "      <td>MANAGER</td>\n",
       "      <td>1</td>\n",
       "      <td>2001-01-03</td>\n",
       "      <td>80000</td>\n",
       "      <td>IT</td>\n",
       "      <td>8</td>\n",
       "    </tr>\n",
       "    <tr>\n",
       "      <th>24</th>\n",
       "      <td>25</td>\n",
       "      <td>YANNY</td>\n",
       "      <td>YOUNG</td>\n",
       "      <td>IT SUPPORT</td>\n",
       "      <td>24</td>\n",
       "      <td>2001-08-13</td>\n",
       "      <td>50000</td>\n",
       "      <td>IT</td>\n",
       "      <td>8</td>\n",
       "    </tr>\n",
       "    <tr>\n",
       "      <th>25</th>\n",
       "      <td>26</td>\n",
       "      <td>ZACK</td>\n",
       "      <td>ZIMMERMAN</td>\n",
       "      <td>IT SUPPORT</td>\n",
       "      <td>24</td>\n",
       "      <td>2002-02-09</td>\n",
       "      <td>43000</td>\n",
       "      <td>IT</td>\n",
       "      <td>8</td>\n",
       "    </tr>\n",
       "  </tbody>\n",
       "</table>\n",
       "</div>"
      ],
      "text/plain": [
       "    Employee ID    Name  Last Name       Title  Manager ID Hiring Date  \\\n",
       "0             1  ALBERT      ADAMS         CEO           0  2000-01-05   \n",
       "1             2    BILL     BABBLE         CTO           1  2000-01-05   \n",
       "2             3   CAROL      CRAFT         CFO           1  2000-01-05   \n",
       "3             4   DIANA        DEW         CIO           1  2000-01-05   \n",
       "4             5  EDWARD       EVES          VP           1  2001-02-13   \n",
       "5             6   FRANK     FABIOS          VP           1  2001-02-23   \n",
       "6             7    GARY   GARFIELD    DIRECTOR           5  2001-04-16   \n",
       "7             8   HENRY     HOOVER     MANAGER           7  2001-05-28   \n",
       "8             9   IRENE      ISLES    ENGINEER           8  2001-08-18   \n",
       "9            10  JEREMY    JACKSON    ENGINEER           8  2001-07-19   \n",
       "10           11     KIM     KRATER    ENGINEER           8  2001-06-03   \n",
       "11           12   LAURA        LEE          VP           1  2001-10-14   \n",
       "12           13     MAY      MOORE   ASSISTANT           1  2003-02-06   \n",
       "13           14   NANCY     NEWARK    DIRECTOR           1  2001-09-30   \n",
       "14           15   OSCAR     OSWALD     MANAGER          14  2002-03-22   \n",
       "15           16   PENNY    PEABODY  ACCOUNTANT          15  2002-05-06   \n",
       "16           17  QUINCY      QUINN    DIRECTOR          18  2002-01-22   \n",
       "17           18    RYAN    REDFORD   RECRUITER          17  2002-06-13   \n",
       "18           19   SALLY      SMITH     MANAGER          17  2002-07-14   \n",
       "19           20     TOM     TIMBER    ENGINEER          21  2003-01-25   \n",
       "20           21     UMA     ULLMAN          VP           1  2002-11-07   \n",
       "21           22   VICKY    VINCENT          PM          21  2003-05-07   \n",
       "22           23   WENDY   WILLIAMS    ENGINEER           8  2003-09-21   \n",
       "23           24     XIN      XIANG     MANAGER           1  2001-01-03   \n",
       "24           25   YANNY      YOUNG  IT SUPPORT          24  2001-08-13   \n",
       "25           26    ZACK  ZIMMERMAN  IT SUPPORT          24  2002-02-09   \n",
       "\n",
       "     Salary       Department  Department ID  \n",
       "0   1000000   EXECUTIVE TEAM              1  \n",
       "1    500000   EXECUTIVE TEAM              1  \n",
       "2    500000   EXECUTIVE TEAM              1  \n",
       "3    500000   EXECUTIVE TEAM              1  \n",
       "4    300000      ENGINEERING              2  \n",
       "5    300000  HUMAN RESOURCES              3  \n",
       "6    200000      ENGINEERING              2  \n",
       "7    150000      ENGINEERING              2  \n",
       "8    120000      ENGINEERING              2  \n",
       "9     80000      ENGINEERING              2  \n",
       "10    90000      ENGINEERING              2  \n",
       "11   200000            SALES              4  \n",
       "12    40000            ADMIN              5  \n",
       "13   120000          FINANCE              6  \n",
       "14    80000          FINANCE              6  \n",
       "15    60000          FINANCE              6  \n",
       "16   120000  HUMAN RESOURCES              3  \n",
       "17    60000  HUMAN RESOURCES              3  \n",
       "18    80000  HUMAN RESOURCES              3  \n",
       "19   120000      ENGINEERING              2  \n",
       "20   180000        MARKETING              7  \n",
       "21   120000        MARKETING              7  \n",
       "22   140000      ENGINEERING              2  \n",
       "23    80000               IT              8  \n",
       "24    50000               IT              8  \n",
       "25    43000               IT              8  "
      ]
     },
     "execution_count": 115,
     "metadata": {},
     "output_type": "execute_result"
    }
   ],
   "source": [
    "employees"
   ]
  },
  {
   "cell_type": "markdown",
   "metadata": {},
   "source": [
    "Good, now we can start to answer questions based on this data. \n",
    "\n",
    "We will first do some examples where I will provide the answers:"
   ]
  },
  {
   "cell_type": "markdown",
   "metadata": {},
   "source": [
    "<B>EXAMPLE QUESTION</B>: What is the result returned when the \"Salary\" column is selected?"
   ]
  },
  {
   "cell_type": "markdown",
   "metadata": {},
   "source": [
    "<B>SOLUTION</B>: Here is the result:"
   ]
  },
  {
   "cell_type": "code",
   "execution_count": 116,
   "metadata": {},
   "outputs": [
    {
     "data": {
      "text/plain": [
       "0     1000000\n",
       "1      500000\n",
       "2      500000\n",
       "3      500000\n",
       "4      300000\n",
       "5      300000\n",
       "6      200000\n",
       "7      150000\n",
       "8      120000\n",
       "9       80000\n",
       "10      90000\n",
       "11     200000\n",
       "12      40000\n",
       "13     120000\n",
       "14      80000\n",
       "15      60000\n",
       "16     120000\n",
       "17      60000\n",
       "18      80000\n",
       "19     120000\n",
       "20     180000\n",
       "21     120000\n",
       "22     140000\n",
       "23      80000\n",
       "24      50000\n",
       "25      43000\n",
       "Name: Salary, dtype: int64"
      ]
     },
     "execution_count": 116,
     "metadata": {},
     "output_type": "execute_result"
    }
   ],
   "source": [
    "salaries = employees[\"Salary\"]\n",
    "salaries"
   ]
  },
  {
   "cell_type": "markdown",
   "metadata": {},
   "source": [
    "Here is the check we will use:"
   ]
  },
  {
   "cell_type": "code",
   "execution_count": 117,
   "metadata": {},
   "outputs": [
    {
     "name": "stdout",
     "output_type": "stream",
     "text": [
      "The result is CORRECT!\n"
     ]
    }
   ],
   "source": [
    "# Do not change the following line!\n",
    "check(0, salaries, \"8bcc6a94479f3c4ca345232afd7c45f3\")"
   ]
  },
  {
   "cell_type": "markdown",
   "metadata": {},
   "source": [
    "<B>EXAMPLE QUESTION</B>: What is the type of the result returned when the \"Salary\" column is selected?"
   ]
  },
  {
   "cell_type": "markdown",
   "metadata": {},
   "source": [
    "<B>SOLUTION</B>: Selecting a column from a dataframe creates a \"Series\" in Pandas:"
   ]
  },
  {
   "cell_type": "code",
   "execution_count": 118,
   "metadata": {},
   "outputs": [
    {
     "data": {
      "text/plain": [
       "pandas.core.series.Series"
      ]
     },
     "execution_count": 118,
     "metadata": {},
     "output_type": "execute_result"
    }
   ],
   "source": [
    "type_salaries = type(salaries)\n",
    "type_salaries"
   ]
  },
  {
   "cell_type": "markdown",
   "metadata": {},
   "source": [
    "Here is the check for this:"
   ]
  },
  {
   "cell_type": "code",
   "execution_count": 119,
   "metadata": {},
   "outputs": [
    {
     "name": "stdout",
     "output_type": "stream",
     "text": [
      "The result is CORRECT!\n"
     ]
    }
   ],
   "source": [
    "# Do not change the following line!\n",
    "check(0, type_salaries, \"0e1efebbff5a4432e8905487e246e7b1\")"
   ]
  },
  {
   "cell_type": "markdown",
   "metadata": {},
   "source": [
    "Now answer the following questions, by filling out the following lines in a similar manner. Some lines may contain some variables that you have to use (you may use them as hints, too)."
   ]
  },
  {
   "cell_type": "markdown",
   "metadata": {},
   "source": [
    "<B>QUESTION #1</B>: Find the average salary for the whole company rounded to the nearest integer"
   ]
  },
  {
   "cell_type": "markdown",
   "metadata": {},
   "source": [
    "<B>SOLUTION</B>: "
   ]
  },
  {
   "cell_type": "code",
   "execution_count": 79,
   "metadata": {},
   "outputs": [
    {
     "data": {
      "text/plain": [
       "201269"
      ]
     },
     "execution_count": 79,
     "metadata": {},
     "output_type": "execute_result"
    }
   ],
   "source": [
    "average_salary = round(employees['Salary'].mean()) # complete this line\n",
    "average_salary"
   ]
  },
  {
   "cell_type": "code",
   "execution_count": 80,
   "metadata": {},
   "outputs": [
    {
     "name": "stdout",
     "output_type": "stream",
     "text": [
      "The result is CORRECT!\n"
     ]
    }
   ],
   "source": [
    "# Do not change the following line!\n",
    "check(1, average_salary, \"f372243c0b3bf80ed243466d6e9aca53\")"
   ]
  },
  {
   "cell_type": "markdown",
   "metadata": {},
   "source": [
    "<B>QUESTION #2</B>: Find the difference between the maximum and minimum salary in the whole company"
   ]
  },
  {
   "cell_type": "markdown",
   "metadata": {},
   "source": [
    "<B>SOLUTION</B>: "
   ]
  },
  {
   "cell_type": "code",
   "execution_count": 81,
   "metadata": {
    "scrolled": true
   },
   "outputs": [
    {
     "data": {
      "text/plain": [
       "960000"
      ]
     },
     "execution_count": 81,
     "metadata": {},
     "output_type": "execute_result"
    }
   ],
   "source": [
    "diff = salaries.max() - salaries.min() # complete this line\n",
    "diff"
   ]
  },
  {
   "cell_type": "code",
   "execution_count": 82,
   "metadata": {},
   "outputs": [
    {
     "name": "stdout",
     "output_type": "stream",
     "text": [
      "The result is CORRECT!\n"
     ]
    }
   ],
   "source": [
    "# Do not change the following line!\n",
    "check(2, diff, \"0ade79cc59eb1bf988adebab67178551\")"
   ]
  },
  {
   "cell_type": "markdown",
   "metadata": {},
   "source": [
    "<B>QUESTION #3</B>: Find the number of employees with the median salary of the company"
   ]
  },
  {
   "cell_type": "markdown",
   "metadata": {},
   "source": [
    "<B>SOLUTION</B>: "
   ]
  },
  {
   "cell_type": "code",
   "execution_count": 83,
   "metadata": {
    "scrolled": true
   },
   "outputs": [
    {
     "data": {
      "text/plain": [
       "5"
      ]
     },
     "execution_count": 83,
     "metadata": {},
     "output_type": "execute_result"
    }
   ],
   "source": [
    "median_salary = employees['Salary'].median()\n",
    "\n",
    "median_employees = employees[employees['Salary'] == median_salary]\n",
    "count = median_employees['Employee ID'].count() \n",
    "count"
   ]
  },
  {
   "cell_type": "code",
   "execution_count": 84,
   "metadata": {},
   "outputs": [
    {
     "name": "stdout",
     "output_type": "stream",
     "text": [
      "The result is CORRECT!\n"
     ]
    }
   ],
   "source": [
    "# Do not change the following line!\n",
    "check(3, count, \"1dcca23355272056f04fe8bf20edfce0\")"
   ]
  },
  {
   "cell_type": "markdown",
   "metadata": {},
   "source": [
    "<B>QUESTION #4</B>: Find full record of the 2nd most recently hired employee"
   ]
  },
  {
   "cell_type": "markdown",
   "metadata": {},
   "source": [
    "<B>SOLUTION</B>: "
   ]
  },
  {
   "cell_type": "code",
   "execution_count": 85,
   "metadata": {
    "scrolled": true
   },
   "outputs": [
    {
     "data": {
      "text/html": [
       "<div>\n",
       "<style scoped>\n",
       "    .dataframe tbody tr th:only-of-type {\n",
       "        vertical-align: middle;\n",
       "    }\n",
       "\n",
       "    .dataframe tbody tr th {\n",
       "        vertical-align: top;\n",
       "    }\n",
       "\n",
       "    .dataframe thead th {\n",
       "        text-align: right;\n",
       "    }\n",
       "</style>\n",
       "<table border=\"1\" class=\"dataframe\">\n",
       "  <thead>\n",
       "    <tr style=\"text-align: right;\">\n",
       "      <th></th>\n",
       "      <th>Employee ID</th>\n",
       "      <th>Name</th>\n",
       "      <th>Last Name</th>\n",
       "      <th>Title</th>\n",
       "      <th>Manager ID</th>\n",
       "      <th>Hiring Date</th>\n",
       "      <th>Salary</th>\n",
       "      <th>Department</th>\n",
       "      <th>Department ID</th>\n",
       "    </tr>\n",
       "  </thead>\n",
       "  <tbody>\n",
       "    <tr>\n",
       "      <th>21</th>\n",
       "      <td>22</td>\n",
       "      <td>VICKY</td>\n",
       "      <td>VINCENT</td>\n",
       "      <td>PM</td>\n",
       "      <td>21</td>\n",
       "      <td>2003-05-07</td>\n",
       "      <td>120000</td>\n",
       "      <td>MARKETING</td>\n",
       "      <td>7</td>\n",
       "    </tr>\n",
       "  </tbody>\n",
       "</table>\n",
       "</div>"
      ],
      "text/plain": [
       "    Employee ID   Name Last Name Title  Manager ID Hiring Date  Salary  \\\n",
       "21           22  VICKY   VINCENT    PM          21  2003-05-07  120000   \n",
       "\n",
       "   Department  Department ID  \n",
       "21  MARKETING              7  "
      ]
     },
     "execution_count": 85,
     "metadata": {},
     "output_type": "execute_result"
    }
   ],
   "source": [
    "sorted_employees = employees.sort_values(by='Hiring Date', ascending=False)\n",
    "\n",
    "second_most_recent_hire = sorted_employees.iloc[[1]]\n",
    "second_most_recent_hire"
   ]
  },
  {
   "cell_type": "code",
   "execution_count": 86,
   "metadata": {},
   "outputs": [
    {
     "name": "stdout",
     "output_type": "stream",
     "text": [
      "The result is CORRECT!\n"
     ]
    }
   ],
   "source": [
    "# Do not change the following line!\n",
    "check(4, second_most_recent_hire, \"19f2fa773bf1df7ffc01714b2813469b\")"
   ]
  },
  {
   "cell_type": "markdown",
   "metadata": {},
   "source": [
    "<B>QUESTION #5</B>: Find the full name of the last employee hired to the company.\n",
    "                    Your answer should be a single string with the \"Name\" and \n",
    "                    \"Last Name\" of the employee in it."
   ]
  },
  {
   "cell_type": "markdown",
   "metadata": {},
   "source": [
    "<B>SOLUTION</B>: "
   ]
  },
  {
   "cell_type": "code",
   "execution_count": 87,
   "metadata": {},
   "outputs": [
    {
     "data": {
      "text/plain": [
       "'WENDY WILLIAMS'"
      ]
     },
     "execution_count": 87,
     "metadata": {},
     "output_type": "execute_result"
    }
   ],
   "source": [
    "sorted_employees = employees.sort_values(by='Hiring Date', ascending=False)\n",
    "\n",
    "last_employee = sorted_employees.iloc[0]\n",
    "name_and_lastname_of_last_hire = last_employee['Name'] + ' ' + last_employee['Last Name']\n",
    "\n",
    "name_and_lastname_of_last_hire"
   ]
  },
  {
   "cell_type": "code",
   "execution_count": 32,
   "metadata": {},
   "outputs": [
    {
     "name": "stdout",
     "output_type": "stream",
     "text": [
      "The result is CORRECT!\n"
     ]
    }
   ],
   "source": [
    "# Do not change the following line!\n",
    "check(5, name_and_lastname_of_last_hire, \"ad69fe413d34ccb23728fe6897632d7e\")"
   ]
  },
  {
   "cell_type": "markdown",
   "metadata": {},
   "source": [
    "<B>QUESTION #6</B>: Find the 2nd lowest salary in the company. The answer should only be a number."
   ]
  },
  {
   "cell_type": "markdown",
   "metadata": {},
   "source": [
    "<B>SOLUTION</B>: "
   ]
  },
  {
   "cell_type": "code",
   "execution_count": 33,
   "metadata": {},
   "outputs": [
    {
     "data": {
      "text/plain": [
       "43000"
      ]
     },
     "execution_count": 33,
     "metadata": {},
     "output_type": "execute_result"
    }
   ],
   "source": [
    "sorted_employees = employees.sort_values(by='Salary', ascending=True)\n",
    "\n",
    "second_lowest_salary = sorted_employees.iloc[1]['Salary']\n",
    "second_lowest_salary"
   ]
  },
  {
   "cell_type": "code",
   "execution_count": 34,
   "metadata": {},
   "outputs": [
    {
     "name": "stdout",
     "output_type": "stream",
     "text": [
      "The result is CORRECT!\n"
     ]
    }
   ],
   "source": [
    "# Do not change the following line!\n",
    "check(6, second_lowest_salary, \"e31a53d545e8572c12ec14fc1351114b\")"
   ]
  },
  {
   "cell_type": "markdown",
   "metadata": {},
   "source": [
    "<B>QUESTION #7</B>: Find the 6th lowest unique salary in the company. The answer should only be a number."
   ]
  },
  {
   "cell_type": "markdown",
   "metadata": {},
   "source": [
    "<B>SOLUTION</B>: "
   ]
  },
  {
   "cell_type": "code",
   "execution_count": 35,
   "metadata": {},
   "outputs": [
    {
     "data": {
      "text/plain": [
       "90000"
      ]
     },
     "execution_count": 35,
     "metadata": {},
     "output_type": "execute_result"
    }
   ],
   "source": [
    "# The answer is a one-liner!\n",
    "unique_salary = employees.drop_duplicates(subset=['Salary'])\n",
    "\n",
    "sorted_salary = unique_salary.sort_values(by='Salary', ascending=True)\n",
    "\n",
    "sixth_lowest_unique_salary = sorted_salary.iloc[5]['Salary']\n",
    "sixth_lowest_unique_salary"
   ]
  },
  {
   "cell_type": "code",
   "execution_count": 36,
   "metadata": {},
   "outputs": [
    {
     "name": "stdout",
     "output_type": "stream",
     "text": [
      "The result is CORRECT!\n"
     ]
    }
   ],
   "source": [
    "# Do not change the following line!\n",
    "check(7, sixth_lowest_unique_salary, \"6415533d0b3209198c1d6f533b61a4da\")"
   ]
  },
  {
   "cell_type": "markdown",
   "metadata": {},
   "source": [
    "<B>QUESTION #8</B>: Find who in the company gets paid the 6th lowest unique salary. \n",
    "                    Your answer should be a single string with the \"Name\" and \n",
    "                    \"Last Name\" of the employee in it."
   ]
  },
  {
   "cell_type": "markdown",
   "metadata": {},
   "source": [
    "<B>SOLUTION</B>: Using the \"sixth_lowest_unique_salary\" we found in the previous question:"
   ]
  },
  {
   "cell_type": "code",
   "execution_count": 37,
   "metadata": {},
   "outputs": [
    {
     "data": {
      "text/plain": [
       "'KIM KRATER'"
      ]
     },
     "execution_count": 37,
     "metadata": {},
     "output_type": "execute_result"
    }
   ],
   "source": [
    "unique_salaries = employees_df['Salary'].unique()\n",
    "unique_salaries.sort()\n",
    "\n",
    "employee_with_the_sixth_lowest_unique_salary = unique_salaries[5]\n",
    "employees = employees_df[employees_df['Salary'] == employee_with_the_sixth_lowest_unique_salary].iloc[0]\n",
    "\n",
    "name = employees['Name']\n",
    "last_name = employees['Last Name']\n",
    "\n",
    "name_and_lastname_of_employee = f'{name} {last_name}'\n",
    "name_and_lastname_of_employee"
   ]
  },
  {
   "cell_type": "code",
   "execution_count": 38,
   "metadata": {},
   "outputs": [
    {
     "name": "stdout",
     "output_type": "stream",
     "text": [
      "The result is CORRECT!\n"
     ]
    }
   ],
   "source": [
    "# Do not change the following line!\n",
    "check(8, name_and_lastname_of_employee, \"57444e392eea58d5b205a0632ca495e6\")"
   ]
  },
  {
   "cell_type": "markdown",
   "metadata": {},
   "source": [
    "<B>QUESTION #9</B>: Find the most common hiring date in the company \n",
    "                    and return all employees that were hired on that date.\n",
    "                    Your answer should be a data frame with three columns:\n",
    "                    \"Name\", \"Last Name\", \"Hiring Date\" and should be sorted \n",
    "                    by \"Name\" and \"Last Name\" in descending order."
   ]
  },
  {
   "cell_type": "markdown",
   "metadata": {},
   "source": [
    "<B>SOLUTION</B>: "
   ]
  },
  {
   "cell_type": "code",
   "execution_count": 39,
   "metadata": {},
   "outputs": [
    {
     "data": {
      "text/html": [
       "<div>\n",
       "<style scoped>\n",
       "    .dataframe tbody tr th:only-of-type {\n",
       "        vertical-align: middle;\n",
       "    }\n",
       "\n",
       "    .dataframe tbody tr th {\n",
       "        vertical-align: top;\n",
       "    }\n",
       "\n",
       "    .dataframe thead th {\n",
       "        text-align: right;\n",
       "    }\n",
       "</style>\n",
       "<table border=\"1\" class=\"dataframe\">\n",
       "  <thead>\n",
       "    <tr style=\"text-align: right;\">\n",
       "      <th></th>\n",
       "      <th>Name</th>\n",
       "      <th>Last Name</th>\n",
       "      <th>Hiring Date</th>\n",
       "    </tr>\n",
       "  </thead>\n",
       "  <tbody>\n",
       "    <tr>\n",
       "      <th>3</th>\n",
       "      <td>DIANA</td>\n",
       "      <td>DEW</td>\n",
       "      <td>2000-01-05</td>\n",
       "    </tr>\n",
       "    <tr>\n",
       "      <th>2</th>\n",
       "      <td>CAROL</td>\n",
       "      <td>CRAFT</td>\n",
       "      <td>2000-01-05</td>\n",
       "    </tr>\n",
       "    <tr>\n",
       "      <th>1</th>\n",
       "      <td>BILL</td>\n",
       "      <td>BABBLE</td>\n",
       "      <td>2000-01-05</td>\n",
       "    </tr>\n",
       "    <tr>\n",
       "      <th>0</th>\n",
       "      <td>ALBERT</td>\n",
       "      <td>ADAMS</td>\n",
       "      <td>2000-01-05</td>\n",
       "    </tr>\n",
       "  </tbody>\n",
       "</table>\n",
       "</div>"
      ],
      "text/plain": [
       "     Name Last Name Hiring Date\n",
       "3   DIANA       DEW  2000-01-05\n",
       "2   CAROL     CRAFT  2000-01-05\n",
       "1    BILL    BABBLE  2000-01-05\n",
       "0  ALBERT     ADAMS  2000-01-05"
      ]
     },
     "execution_count": 39,
     "metadata": {},
     "output_type": "execute_result"
    }
   ],
   "source": [
    "most_common_date = employees_df['Hiring Date'].mode()[0]\n",
    "\n",
    "employees_on_common_date = employees_df[employees_df['Hiring Date'] == most_common_date]\n",
    "\n",
    "employees_on_common_date = employees_on_common_date.sort_values(['Name', 'Last Name'], ascending=[False, False])\n",
    "\n",
    "result_df = pd.DataFrame({\n",
    "    'Name': employees_on_common_date['Name'],\n",
    "    'Last Name': employees_on_common_date['Last Name'],\n",
    "    'Hiring Date': employees_on_common_date['Hiring Date']\n",
    "})\n",
    "result_df"
   ]
  },
  {
   "cell_type": "code",
   "execution_count": 40,
   "metadata": {},
   "outputs": [
    {
     "name": "stdout",
     "output_type": "stream",
     "text": [
      "The result is CORRECT!\n"
     ]
    }
   ],
   "source": [
    "# Do not change the following line!\n",
    "check(9, result_df, \"74becb4e5d86e71f978d8f93fb24a2de\")"
   ]
  },
  {
   "cell_type": "markdown",
   "metadata": {},
   "source": [
    "<B>QUESTION #10</B>: Find the number of employees hired in the first year"
   ]
  },
  {
   "cell_type": "markdown",
   "metadata": {},
   "source": [
    "<B>SOLUTION</B>: "
   ]
  },
  {
   "cell_type": "code",
   "execution_count": 41,
   "metadata": {},
   "outputs": [
    {
     "data": {
      "text/plain": [
       "4"
      ]
     },
     "execution_count": 41,
     "metadata": {},
     "output_type": "execute_result"
    }
   ],
   "source": [
    "employees_df['Year Hired'] = pd.to_datetime(employees_df['Hiring Date']).dt.year\n",
    "\n",
    "number_of_employees_hired_in_first_year = len(employees_df[employees_df['Year Hired'] == employees_df['Year Hired'].min()])\n",
    "number_of_employees_hired_in_first_year"
   ]
  },
  {
   "cell_type": "code",
   "execution_count": 42,
   "metadata": {},
   "outputs": [
    {
     "name": "stdout",
     "output_type": "stream",
     "text": [
      "The result is CORRECT!\n"
     ]
    }
   ],
   "source": [
    "# Do not change the following line!\n",
    "check(10, number_of_employees_hired_in_first_year, \"48a24b70a0b376535542b996af517398\")"
   ]
  },
  {
   "cell_type": "markdown",
   "metadata": {},
   "source": [
    "<B>QUESTION #11</B>: Find the most common job title in the company"
   ]
  },
  {
   "cell_type": "markdown",
   "metadata": {},
   "source": [
    "<B>SOLUTION</B>: "
   ]
  },
  {
   "cell_type": "code",
   "execution_count": 43,
   "metadata": {},
   "outputs": [
    {
     "data": {
      "text/plain": [
       "'ENGINEER'"
      ]
     },
     "execution_count": 43,
     "metadata": {},
     "output_type": "execute_result"
    }
   ],
   "source": [
    "job_title_counts = employees_df['Title'].mode()[0]  # complete this line\n",
    "most_common_job_title = job_title_counts # complete this line\n",
    "most_common_job_title"
   ]
  },
  {
   "cell_type": "code",
   "execution_count": 44,
   "metadata": {},
   "outputs": [
    {
     "name": "stdout",
     "output_type": "stream",
     "text": [
      "The result is CORRECT!\n"
     ]
    }
   ],
   "source": [
    "# Do not change the following line!\n",
    "check(11, most_common_job_title, \"363e0571a300bf98aec2757d6b889d7c\")"
   ]
  },
  {
   "cell_type": "markdown",
   "metadata": {},
   "source": [
    "<B>QUESTION #12</B>: Find the number of employees in the department with the highest headcount"
   ]
  },
  {
   "cell_type": "markdown",
   "metadata": {},
   "source": [
    "<B>SOLUTION</B>: "
   ]
  },
  {
   "cell_type": "code",
   "execution_count": 99,
   "metadata": {},
   "outputs": [
    {
     "data": {
      "text/plain": [
       "8"
      ]
     },
     "execution_count": 99,
     "metadata": {},
     "output_type": "execute_result"
    }
   ],
   "source": [
    "max_headcount = employees['Department'].value_counts()\n",
    "max_headcount = max_headcount[0]\n",
    "max_headcount"
   ]
  },
  {
   "cell_type": "code",
   "execution_count": 100,
   "metadata": {},
   "outputs": [
    {
     "name": "stdout",
     "output_type": "stream",
     "text": [
      "The result is CORRECT!\n"
     ]
    }
   ],
   "source": [
    "# Do not change the following line!\n",
    "check(12, max_headcount, \"c30f7472766d25af1dc80b3ffc9a58c7\")"
   ]
  },
  {
   "cell_type": "markdown",
   "metadata": {},
   "source": [
    "<B>QUESTION #13</B>: Find the department with the highest headcount"
   ]
  },
  {
   "cell_type": "markdown",
   "metadata": {},
   "source": [
    "<B>SOLUTION</B>: "
   ]
  },
  {
   "cell_type": "code",
   "execution_count": 101,
   "metadata": {},
   "outputs": [
    {
     "data": {
      "text/plain": [
       "'ENGINEERING'"
      ]
     },
     "execution_count": 101,
     "metadata": {},
     "output_type": "execute_result"
    }
   ],
   "source": [
    "department_employee_counts = employees['Department'].value_counts()  # complete this line\n",
    "department_with_highest_headcount = department_employee_counts .index[0]  # complete this line\n",
    "department_with_highest_headcount"
   ]
  },
  {
   "cell_type": "code",
   "execution_count": 102,
   "metadata": {},
   "outputs": [
    {
     "name": "stdout",
     "output_type": "stream",
     "text": [
      "The result is CORRECT!\n"
     ]
    }
   ],
   "source": [
    "# Do not change the following line!\n",
    "check(13, department_with_highest_headcount, \"fb6e273ac24d8949a4e16d85218db754\")"
   ]
  },
  {
   "cell_type": "markdown",
   "metadata": {},
   "source": [
    "<B>QUESTION #14</B>: Find the payroll budget (i.e. total salaries) for each department and sort them in ascending order. Provide the answer with departments as indices and \"Salary\" column column renamed as \"Budget\"."
   ]
  },
  {
   "cell_type": "markdown",
   "metadata": {},
   "source": [
    "<B>SOLUTION</B>: "
   ]
  },
  {
   "cell_type": "code",
   "execution_count": 195,
   "metadata": {},
   "outputs": [
    {
     "data": {
      "text/html": [
       "<div>\n",
       "<style scoped>\n",
       "    .dataframe tbody tr th:only-of-type {\n",
       "        vertical-align: middle;\n",
       "    }\n",
       "\n",
       "    .dataframe tbody tr th {\n",
       "        vertical-align: top;\n",
       "    }\n",
       "\n",
       "    .dataframe thead th {\n",
       "        text-align: right;\n",
       "    }\n",
       "</style>\n",
       "<table border=\"1\" class=\"dataframe\">\n",
       "  <thead>\n",
       "    <tr style=\"text-align: right;\">\n",
       "      <th></th>\n",
       "      <th>Budget</th>\n",
       "    </tr>\n",
       "    <tr>\n",
       "      <th>Department</th>\n",
       "      <th></th>\n",
       "    </tr>\n",
       "  </thead>\n",
       "  <tbody>\n",
       "    <tr>\n",
       "      <th>ADMIN</th>\n",
       "      <td>40000</td>\n",
       "    </tr>\n",
       "    <tr>\n",
       "      <th>IT</th>\n",
       "      <td>173000</td>\n",
       "    </tr>\n",
       "    <tr>\n",
       "      <th>SALES</th>\n",
       "      <td>200000</td>\n",
       "    </tr>\n",
       "    <tr>\n",
       "      <th>FINANCE</th>\n",
       "      <td>260000</td>\n",
       "    </tr>\n",
       "    <tr>\n",
       "      <th>MARKETING</th>\n",
       "      <td>300000</td>\n",
       "    </tr>\n",
       "    <tr>\n",
       "      <th>HUMAN RESOURCES</th>\n",
       "      <td>560000</td>\n",
       "    </tr>\n",
       "    <tr>\n",
       "      <th>ENGINEERING</th>\n",
       "      <td>1200000</td>\n",
       "    </tr>\n",
       "    <tr>\n",
       "      <th>EXECUTIVE TEAM</th>\n",
       "      <td>2500000</td>\n",
       "    </tr>\n",
       "  </tbody>\n",
       "</table>\n",
       "</div>"
      ],
      "text/plain": [
       "                  Budget\n",
       "Department              \n",
       "ADMIN              40000\n",
       "IT                173000\n",
       "SALES             200000\n",
       "FINANCE           260000\n",
       "MARKETING         300000\n",
       "HUMAN RESOURCES   560000\n",
       "ENGINEERING      1200000\n",
       "EXECUTIVE TEAM   2500000"
      ]
     },
     "execution_count": 195,
     "metadata": {},
     "output_type": "execute_result"
    }
   ],
   "source": [
    "department_budgets_list_sorted = employees.groupby('Department')[['Salary']].sum() # complete this line\n",
    "department_budgets_list_sorted = department_budgets_list_sorted.sort_values('Salary')\n",
    "department_budgets_list_sorted = department_budgets_list_sorted.rename(columns={'Salary': 'Budget'})\n",
    "department_budgets_list_sorted"
   ]
  },
  {
   "cell_type": "code",
   "execution_count": 171,
   "metadata": {},
   "outputs": [
    {
     "name": "stdout",
     "output_type": "stream",
     "text": [
      "The result is CORRECT!\n"
     ]
    }
   ],
   "source": [
    "# Do not change the following line!\n",
    "check(14, department_budgets_list_sorted, \"47144800ba49dac765fd5f3f2ca53980\")"
   ]
  },
  {
   "cell_type": "markdown",
   "metadata": {},
   "source": [
    "<B>QUESTION #15</B>: Find how many direct reports each manager has, \n",
    "                     report them by manager's first name and last name,\n",
    "                     also sorting them by the number of reports\n",
    "                     and the name of the manager (both in descending order).\n",
    "                     Your final answer should have the \"Name\", \"Last Name\", \n",
    "                     \"Number of Reports\" columns in that order."
   ]
  },
  {
   "cell_type": "markdown",
   "metadata": {},
   "source": [
    "<B>SOLUTION</B>: "
   ]
  },
  {
   "cell_type": "code",
   "execution_count": 231,
   "metadata": {},
   "outputs": [
    {
     "data": {
      "text/html": [
       "<div>\n",
       "<style scoped>\n",
       "    .dataframe tbody tr th:only-of-type {\n",
       "        vertical-align: middle;\n",
       "    }\n",
       "\n",
       "    .dataframe tbody tr th {\n",
       "        vertical-align: top;\n",
       "    }\n",
       "\n",
       "    .dataframe thead th {\n",
       "        text-align: right;\n",
       "    }\n",
       "</style>\n",
       "<table border=\"1\" class=\"dataframe\">\n",
       "  <thead>\n",
       "    <tr style=\"text-align: right;\">\n",
       "      <th></th>\n",
       "      <th>Name</th>\n",
       "      <th>Last Name</th>\n",
       "      <th>Number of Reports</th>\n",
       "    </tr>\n",
       "  </thead>\n",
       "  <tbody>\n",
       "    <tr>\n",
       "      <th>0</th>\n",
       "      <td>ALBERT</td>\n",
       "      <td>ADAMS</td>\n",
       "      <td>10</td>\n",
       "    </tr>\n",
       "    <tr>\n",
       "      <th>3</th>\n",
       "      <td>HENRY</td>\n",
       "      <td>HOOVER</td>\n",
       "      <td>4</td>\n",
       "    </tr>\n",
       "    <tr>\n",
       "      <th>9</th>\n",
       "      <td>XIN</td>\n",
       "      <td>XIANG</td>\n",
       "      <td>2</td>\n",
       "    </tr>\n",
       "    <tr>\n",
       "      <th>8</th>\n",
       "      <td>UMA</td>\n",
       "      <td>ULLMAN</td>\n",
       "      <td>2</td>\n",
       "    </tr>\n",
       "    <tr>\n",
       "      <th>6</th>\n",
       "      <td>QUINCY</td>\n",
       "      <td>QUINN</td>\n",
       "      <td>2</td>\n",
       "    </tr>\n",
       "    <tr>\n",
       "      <th>7</th>\n",
       "      <td>RYAN</td>\n",
       "      <td>REDFORD</td>\n",
       "      <td>1</td>\n",
       "    </tr>\n",
       "    <tr>\n",
       "      <th>5</th>\n",
       "      <td>OSCAR</td>\n",
       "      <td>OSWALD</td>\n",
       "      <td>1</td>\n",
       "    </tr>\n",
       "    <tr>\n",
       "      <th>4</th>\n",
       "      <td>NANCY</td>\n",
       "      <td>NEWARK</td>\n",
       "      <td>1</td>\n",
       "    </tr>\n",
       "    <tr>\n",
       "      <th>2</th>\n",
       "      <td>GARY</td>\n",
       "      <td>GARFIELD</td>\n",
       "      <td>1</td>\n",
       "    </tr>\n",
       "    <tr>\n",
       "      <th>1</th>\n",
       "      <td>EDWARD</td>\n",
       "      <td>EVES</td>\n",
       "      <td>1</td>\n",
       "    </tr>\n",
       "  </tbody>\n",
       "</table>\n",
       "</div>"
      ],
      "text/plain": [
       "     Name Last Name  Number of Reports\n",
       "0  ALBERT     ADAMS                 10\n",
       "3   HENRY    HOOVER                  4\n",
       "9     XIN     XIANG                  2\n",
       "8     UMA    ULLMAN                  2\n",
       "6  QUINCY     QUINN                  2\n",
       "7    RYAN   REDFORD                  1\n",
       "5   OSCAR    OSWALD                  1\n",
       "4   NANCY    NEWARK                  1\n",
       "2    GARY  GARFIELD                  1\n",
       "1  EDWARD      EVES                  1"
      ]
     },
     "execution_count": 231,
     "metadata": {},
     "output_type": "execute_result"
    }
   ],
   "source": [
    "number_of_reports_by_manager_ID = employees.merge( employees, left_on = 'Employee ID', right_on = 'Manager ID').groupby(['Name_y','Last Name_y']).size().reset_index(name = 'Number of Reports')\n",
    "number_of_reports_by_manager_name = number_of_reports_by_manager_name.rename(columns = {'Name_y' : 'Name', 'Last Name_y' : 'Last Name'})\n",
    "number_of_reports_by_manager_name_sorted = number_of_reports_by_manager_name.sort_values(by=['Number of Reports', 'Name', 'Last Name'], ascending=[False, False, False])\n",
    "number_of_reports_by_manager_name_sorted"
   ]
  },
  {
   "cell_type": "code",
   "execution_count": 232,
   "metadata": {},
   "outputs": [
    {
     "name": "stdout",
     "output_type": "stream",
     "text": [
      "The result is CORRECT!\n"
     ]
    }
   ],
   "source": [
    "# Do not change the following line!\n",
    "check(15, number_of_reports_by_manager_name_sorted, \"e35539d8cfaa3380cb515772be15f6d1\")"
   ]
  },
  {
   "cell_type": "markdown",
   "metadata": {},
   "source": [
    "<B>QUESTION #16</B>: Find the manager with lowest payroll budget \n",
    "                     (i.e. sum of the salaries of direct reports). \n",
    "                     Your answer should only include the \"Name\" and \n",
    "                     the \"Last Name\" of that manager as a single string."
   ]
  },
  {
   "cell_type": "markdown",
   "metadata": {},
   "source": [
    "<B>SOLUTION</B>: "
   ]
  },
  {
   "cell_type": "code",
   "execution_count": 238,
   "metadata": {},
   "outputs": [
    {
     "data": {
      "text/plain": [
       "'OSCAR OSWALD'"
      ]
     },
     "execution_count": 238,
     "metadata": {},
     "output_type": "execute_result"
    }
   ],
   "source": [
    "manager_id_with_lowest_budget = employees.groupby('Manager ID')['Salary'].sum().idxmin()  # complete this line\n",
    "manager_with_lowest_budget = employees[employees['Employee ID'] == manager_id_with_lowest_budget].iloc[0]  # complete this line\n",
    "full_name_of_manager_with_lowest_budget = f'{manager_with_lowest_budget[1]} {manager_with_lowest_budget[2]}'  # complete this line\n",
    "full_name_of_manager_with_lowest_budget"
   ]
  },
  {
   "cell_type": "code",
   "execution_count": 239,
   "metadata": {},
   "outputs": [
    {
     "name": "stdout",
     "output_type": "stream",
     "text": [
      "The result is CORRECT!\n"
     ]
    }
   ],
   "source": [
    "# Do not change the following line!\n",
    "check(16, full_name_of_manager_with_lowest_budget, \"9ea14904aad646e15432fd6ebb3f9c17\")"
   ]
  },
  {
   "cell_type": "markdown",
   "metadata": {},
   "source": [
    "<B>QUESTION #17</B>: Find the list of employees who get paid under $90K along \n",
    "                     with their managers, and sort them \n",
    "                     by their salaries (in descending order) \n",
    "                     and \"Employee Name\" (in ascending order). \n",
    "                     Your answer should be a data frame with the\n",
    "                     \"Employee Name\", \"Employee Last Name\", \"Manager Name\", \n",
    "                     \"Manager Last Name\", \"Employee Salary\" columns in that order."
   ]
  },
  {
   "cell_type": "markdown",
   "metadata": {},
   "source": [
    "<B>SOLUTION</B>: "
   ]
  },
  {
   "cell_type": "code",
   "execution_count": 375,
   "metadata": {},
   "outputs": [
    {
     "data": {
      "text/html": [
       "<div>\n",
       "<style scoped>\n",
       "    .dataframe tbody tr th:only-of-type {\n",
       "        vertical-align: middle;\n",
       "    }\n",
       "\n",
       "    .dataframe tbody tr th {\n",
       "        vertical-align: top;\n",
       "    }\n",
       "\n",
       "    .dataframe thead th {\n",
       "        text-align: right;\n",
       "    }\n",
       "</style>\n",
       "<table border=\"1\" class=\"dataframe\">\n",
       "  <thead>\n",
       "    <tr style=\"text-align: right;\">\n",
       "      <th></th>\n",
       "      <th>Employee Name</th>\n",
       "      <th>Employee Last Name</th>\n",
       "      <th>Manager Name</th>\n",
       "      <th>Manager Last Name</th>\n",
       "      <th>Employee Salary</th>\n",
       "    </tr>\n",
       "  </thead>\n",
       "  <tbody>\n",
       "    <tr>\n",
       "      <th>0</th>\n",
       "      <td>JEREMY</td>\n",
       "      <td>JACKSON</td>\n",
       "      <td>HENRY</td>\n",
       "      <td>HOOVER</td>\n",
       "      <td>80000</td>\n",
       "    </tr>\n",
       "    <tr>\n",
       "      <th>3</th>\n",
       "      <td>OSCAR</td>\n",
       "      <td>OSWALD</td>\n",
       "      <td>NANCY</td>\n",
       "      <td>NEWARK</td>\n",
       "      <td>80000</td>\n",
       "    </tr>\n",
       "    <tr>\n",
       "      <th>6</th>\n",
       "      <td>SALLY</td>\n",
       "      <td>SMITH</td>\n",
       "      <td>QUINCY</td>\n",
       "      <td>QUINN</td>\n",
       "      <td>80000</td>\n",
       "    </tr>\n",
       "    <tr>\n",
       "      <th>2</th>\n",
       "      <td>XIN</td>\n",
       "      <td>XIANG</td>\n",
       "      <td>ALBERT</td>\n",
       "      <td>ADAMS</td>\n",
       "      <td>80000</td>\n",
       "    </tr>\n",
       "    <tr>\n",
       "      <th>4</th>\n",
       "      <td>PENNY</td>\n",
       "      <td>PEABODY</td>\n",
       "      <td>OSCAR</td>\n",
       "      <td>OSWALD</td>\n",
       "      <td>60000</td>\n",
       "    </tr>\n",
       "    <tr>\n",
       "      <th>5</th>\n",
       "      <td>RYAN</td>\n",
       "      <td>REDFORD</td>\n",
       "      <td>QUINCY</td>\n",
       "      <td>QUINN</td>\n",
       "      <td>60000</td>\n",
       "    </tr>\n",
       "    <tr>\n",
       "      <th>7</th>\n",
       "      <td>YANNY</td>\n",
       "      <td>YOUNG</td>\n",
       "      <td>XIN</td>\n",
       "      <td>XIANG</td>\n",
       "      <td>50000</td>\n",
       "    </tr>\n",
       "    <tr>\n",
       "      <th>8</th>\n",
       "      <td>ZACK</td>\n",
       "      <td>ZIMMERMAN</td>\n",
       "      <td>XIN</td>\n",
       "      <td>XIANG</td>\n",
       "      <td>43000</td>\n",
       "    </tr>\n",
       "    <tr>\n",
       "      <th>1</th>\n",
       "      <td>MAY</td>\n",
       "      <td>MOORE</td>\n",
       "      <td>ALBERT</td>\n",
       "      <td>ADAMS</td>\n",
       "      <td>40000</td>\n",
       "    </tr>\n",
       "  </tbody>\n",
       "</table>\n",
       "</div>"
      ],
      "text/plain": [
       "  Employee Name Employee Last Name Manager Name Manager Last Name  \\\n",
       "0        JEREMY            JACKSON        HENRY            HOOVER   \n",
       "3         OSCAR             OSWALD        NANCY            NEWARK   \n",
       "6         SALLY              SMITH       QUINCY             QUINN   \n",
       "2           XIN              XIANG       ALBERT             ADAMS   \n",
       "4         PENNY            PEABODY        OSCAR            OSWALD   \n",
       "5          RYAN            REDFORD       QUINCY             QUINN   \n",
       "7         YANNY              YOUNG          XIN             XIANG   \n",
       "8          ZACK          ZIMMERMAN          XIN             XIANG   \n",
       "1           MAY              MOORE       ALBERT             ADAMS   \n",
       "\n",
       "   Employee Salary  \n",
       "0            80000  \n",
       "3            80000  \n",
       "6            80000  \n",
       "2            80000  \n",
       "4            60000  \n",
       "5            60000  \n",
       "7            50000  \n",
       "8            43000  \n",
       "1            40000  "
      ]
     },
     "execution_count": 375,
     "metadata": {},
     "output_type": "execute_result"
    }
   ],
   "source": [
    "employees_with_low_salaries = employees[employees['Salary'] < 90000]\n",
    "employees_with_low_salaries_merge = employees_with_low_salaries.merge(employees, left_on = 'Manager ID', right_on = 'Employee ID')\n",
    "employees_with_low_salaries.rename(columns={'Name_x':'Employee Name','Last Name_x': 'Employee Last Name','Name_y':'Manager Name','Last Name_y':'Manager Last Name','Salary_x':'Employee Salary'})\n",
    "employees_with_low_salaries_sorted[['Employee Name', 'Employee Last Name', 'Manager Name', 'Manager Last Name', 'Employee Salary']]\n",
    "employees_with_low_salaries_sorted.sort_values(by=['Employee Salary','Employee Name'], ascending = [False, True])\n",
    "# I DON'T HAVE IDEA WHERE'S THE ISSUE"
   ]
  },
  {
   "cell_type": "code",
   "execution_count": 374,
   "metadata": {},
   "outputs": [
    {
     "name": "stdout",
     "output_type": "stream",
     "text": [
      "ERROR: The result is NOT correct!\n"
     ]
    },
    {
     "ename": "AssertionError",
     "evalue": "",
     "output_type": "error",
     "traceback": [
      "\u001b[1;31m---------------------------------------------------------------------------\u001b[0m",
      "\u001b[1;31mAssertionError\u001b[0m                            Traceback (most recent call last)",
      "\u001b[1;32m<ipython-input-374-08a8bb8b1fb7>\u001b[0m in \u001b[0;36m<module>\u001b[1;34m\u001b[0m\n\u001b[0;32m      1\u001b[0m \u001b[1;31m# Do not change the following line!\u001b[0m\u001b[1;33m\u001b[0m\u001b[1;33m\u001b[0m\u001b[1;33m\u001b[0m\u001b[0m\n\u001b[1;32m----> 2\u001b[1;33m \u001b[0mcheck\u001b[0m\u001b[1;33m(\u001b[0m\u001b[1;36m17\u001b[0m\u001b[1;33m,\u001b[0m \u001b[0memployees_with_low_salaries_sorted\u001b[0m\u001b[1;33m,\u001b[0m \u001b[1;34m\"d5e22a820111aed586b3f02f6ad7fe24\"\u001b[0m\u001b[1;33m)\u001b[0m\u001b[1;33m\u001b[0m\u001b[1;33m\u001b[0m\u001b[0m\n\u001b[0m",
      "\u001b[1;32m<ipython-input-106-ad6553b318f8>\u001b[0m in \u001b[0;36mcheck\u001b[1;34m(question_number, result, md5_digest_of_expected_result)\u001b[0m\n\u001b[0;32m     14\u001b[0m     \u001b[1;32mif\u001b[0m \u001b[0mmd5_digest_of_result\u001b[0m \u001b[1;33m!=\u001b[0m \u001b[0mmd5_digest_of_expected_result\u001b[0m\u001b[1;33m:\u001b[0m\u001b[1;33m\u001b[0m\u001b[1;33m\u001b[0m\u001b[0m\n\u001b[0;32m     15\u001b[0m         \u001b[0mprint\u001b[0m\u001b[1;33m(\u001b[0m\u001b[1;34m\"ERROR: The result is NOT correct!\"\u001b[0m\u001b[1;33m)\u001b[0m\u001b[1;33m\u001b[0m\u001b[1;33m\u001b[0m\u001b[0m\n\u001b[1;32m---> 16\u001b[1;33m         \u001b[1;32massert\u001b[0m\u001b[1;33m(\u001b[0m\u001b[1;32mnot\u001b[0m \u001b[0mSTOP_AT_ERRORS\u001b[0m\u001b[1;33m)\u001b[0m\u001b[1;33m\u001b[0m\u001b[1;33m\u001b[0m\u001b[0m\n\u001b[0m\u001b[0;32m     17\u001b[0m     \u001b[1;32melse\u001b[0m\u001b[1;33m:\u001b[0m\u001b[1;33m\u001b[0m\u001b[1;33m\u001b[0m\u001b[0m\n\u001b[0;32m     18\u001b[0m         \u001b[0mprint\u001b[0m\u001b[1;33m(\u001b[0m\u001b[1;34m\"The result is CORRECT!\"\u001b[0m\u001b[1;33m)\u001b[0m\u001b[1;33m\u001b[0m\u001b[1;33m\u001b[0m\u001b[0m\n",
      "\u001b[1;31mAssertionError\u001b[0m: "
     ]
    }
   ],
   "source": [
    "# Do not change the following line!\n",
    "check(17, employees_with_low_salaries_sorted, \"d5e22a820111aed586b3f02f6ad7fe24\")"
   ]
  },
  {
   "cell_type": "markdown",
   "metadata": {},
   "source": [
    "<B>QUESTION #18</B>: Find the 5th most recently hired employee of the company.\n",
    "                     Your answer should be a data frame with \n",
    "                     \"Name\", \"Last Name\" and \"Hiring Date\" columns in that order."
   ]
  },
  {
   "cell_type": "markdown",
   "metadata": {},
   "source": [
    "<B>SOLUTION</B>: "
   ]
  },
  {
   "cell_type": "code",
   "execution_count": 378,
   "metadata": {},
   "outputs": [
    {
     "data": {
      "text/html": [
       "<div>\n",
       "<style scoped>\n",
       "    .dataframe tbody tr th:only-of-type {\n",
       "        vertical-align: middle;\n",
       "    }\n",
       "\n",
       "    .dataframe tbody tr th {\n",
       "        vertical-align: top;\n",
       "    }\n",
       "\n",
       "    .dataframe thead th {\n",
       "        text-align: right;\n",
       "    }\n",
       "</style>\n",
       "<table border=\"1\" class=\"dataframe\">\n",
       "  <thead>\n",
       "    <tr style=\"text-align: right;\">\n",
       "      <th></th>\n",
       "      <th>Name</th>\n",
       "      <th>Last Name</th>\n",
       "      <th>Hiring Date</th>\n",
       "    </tr>\n",
       "  </thead>\n",
       "  <tbody>\n",
       "    <tr>\n",
       "      <th>20</th>\n",
       "      <td>UMA</td>\n",
       "      <td>ULLMAN</td>\n",
       "      <td>2002-11-07</td>\n",
       "    </tr>\n",
       "  </tbody>\n",
       "</table>\n",
       "</div>"
      ],
      "text/plain": [
       "   Name Last Name Hiring Date\n",
       "20  UMA    ULLMAN  2002-11-07"
      ]
     },
     "execution_count": 378,
     "metadata": {},
     "output_type": "execute_result"
    }
   ],
   "source": [
    "# The answer is a one-liner!\n",
    "fifth_most_recent_hire = employees.sort_values('Hiring Date', ascending=False).iloc[[4]][['Name', 'Last Name', 'Hiring Date']]\n",
    "fifth_most_recent_hire"
   ]
  },
  {
   "cell_type": "code",
   "execution_count": 379,
   "metadata": {},
   "outputs": [
    {
     "name": "stdout",
     "output_type": "stream",
     "text": [
      "The result is CORRECT!\n"
     ]
    }
   ],
   "source": [
    "# Do not change the following line!\n",
    "check(18, fifth_most_recent_hire, \"fc7f1557fbdaea587879ec1c67499f91\")"
   ]
  },
  {
   "cell_type": "markdown",
   "metadata": {},
   "source": [
    "<B>QUESTION #19</B>: Find the employee(s) with the lowest salary from each department.\n",
    "                     Your answer should be a data frame with four columns:\n",
    "                     \"Department\", \"Name\", \"Last Name\", \"Salary\".\n",
    "                     The result should be sorted by \"Salary\", \"Department\" and \"Name\" in \n",
    "                     descending, ascending and ascending order respectively."
   ]
  },
  {
   "cell_type": "markdown",
   "metadata": {},
   "source": [
    "<B>SOLUTION</B>: "
   ]
  },
  {
   "cell_type": "code",
   "execution_count": 395,
   "metadata": {},
   "outputs": [
    {
     "data": {
      "text/html": [
       "<div>\n",
       "<style scoped>\n",
       "    .dataframe tbody tr th:only-of-type {\n",
       "        vertical-align: middle;\n",
       "    }\n",
       "\n",
       "    .dataframe tbody tr th {\n",
       "        vertical-align: top;\n",
       "    }\n",
       "\n",
       "    .dataframe thead th {\n",
       "        text-align: right;\n",
       "    }\n",
       "</style>\n",
       "<table border=\"1\" class=\"dataframe\">\n",
       "  <thead>\n",
       "    <tr style=\"text-align: right;\">\n",
       "      <th></th>\n",
       "      <th>Department</th>\n",
       "      <th>Name</th>\n",
       "      <th>Last Name</th>\n",
       "      <th>Salary</th>\n",
       "    </tr>\n",
       "  </thead>\n",
       "  <tbody>\n",
       "    <tr>\n",
       "      <th>2</th>\n",
       "      <td>EXECUTIVE TEAM</td>\n",
       "      <td>BILL</td>\n",
       "      <td>BABBLE</td>\n",
       "      <td>500000</td>\n",
       "    </tr>\n",
       "    <tr>\n",
       "      <th>3</th>\n",
       "      <td>EXECUTIVE TEAM</td>\n",
       "      <td>CAROL</td>\n",
       "      <td>CRAFT</td>\n",
       "      <td>500000</td>\n",
       "    </tr>\n",
       "    <tr>\n",
       "      <th>4</th>\n",
       "      <td>EXECUTIVE TEAM</td>\n",
       "      <td>DIANA</td>\n",
       "      <td>DEW</td>\n",
       "      <td>500000</td>\n",
       "    </tr>\n",
       "    <tr>\n",
       "      <th>9</th>\n",
       "      <td>SALES</td>\n",
       "      <td>LAURA</td>\n",
       "      <td>LEE</td>\n",
       "      <td>200000</td>\n",
       "    </tr>\n",
       "    <tr>\n",
       "      <th>8</th>\n",
       "      <td>MARKETING</td>\n",
       "      <td>VICKY</td>\n",
       "      <td>VINCENT</td>\n",
       "      <td>120000</td>\n",
       "    </tr>\n",
       "    <tr>\n",
       "      <th>1</th>\n",
       "      <td>ENGINEERING</td>\n",
       "      <td>JEREMY</td>\n",
       "      <td>JACKSON</td>\n",
       "      <td>80000</td>\n",
       "    </tr>\n",
       "    <tr>\n",
       "      <th>5</th>\n",
       "      <td>FINANCE</td>\n",
       "      <td>PENNY</td>\n",
       "      <td>PEABODY</td>\n",
       "      <td>60000</td>\n",
       "    </tr>\n",
       "    <tr>\n",
       "      <th>6</th>\n",
       "      <td>HUMAN RESOURCES</td>\n",
       "      <td>RYAN</td>\n",
       "      <td>REDFORD</td>\n",
       "      <td>60000</td>\n",
       "    </tr>\n",
       "    <tr>\n",
       "      <th>7</th>\n",
       "      <td>IT</td>\n",
       "      <td>ZACK</td>\n",
       "      <td>ZIMMERMAN</td>\n",
       "      <td>43000</td>\n",
       "    </tr>\n",
       "    <tr>\n",
       "      <th>0</th>\n",
       "      <td>ADMIN</td>\n",
       "      <td>MAY</td>\n",
       "      <td>MOORE</td>\n",
       "      <td>40000</td>\n",
       "    </tr>\n",
       "  </tbody>\n",
       "</table>\n",
       "</div>"
      ],
      "text/plain": [
       "        Department    Name  Last Name  Salary\n",
       "2   EXECUTIVE TEAM    BILL     BABBLE  500000\n",
       "3   EXECUTIVE TEAM   CAROL      CRAFT  500000\n",
       "4   EXECUTIVE TEAM   DIANA        DEW  500000\n",
       "9            SALES   LAURA        LEE  200000\n",
       "8        MARKETING   VICKY    VINCENT  120000\n",
       "1      ENGINEERING  JEREMY    JACKSON   80000\n",
       "5          FINANCE   PENNY    PEABODY   60000\n",
       "6  HUMAN RESOURCES    RYAN    REDFORD   60000\n",
       "7               IT    ZACK  ZIMMERMAN   43000\n",
       "0            ADMIN     MAY      MOORE   40000"
      ]
     },
     "execution_count": 395,
     "metadata": {},
     "output_type": "execute_result"
    }
   ],
   "source": [
    "department_lowest_salaries = employees.groupby('Department').apply(lambda x: x.loc[x['Salary'] == x['Salary'].min()])  # complete this line\n",
    "department_lowest_salary_employees_sorted = department_lowest_salaries[['Department', 'Name', 'Last Name', 'Salary']].reset_index(drop=True)  # complete this line\n",
    "department_lowest_salary_employees_sorted = department_lowest_salary_employees_sorted.sort_values(['Salary', 'Department', 'Name'], ascending=[False, True, True])\n",
    "department_lowest_salary_employees_sorted\n",
    "# I think the index isn't right, but I did the task properly"
   ]
  },
  {
   "cell_type": "code",
   "execution_count": 381,
   "metadata": {},
   "outputs": [
    {
     "name": "stdout",
     "output_type": "stream",
     "text": [
      "ERROR: The result is NOT correct!\n"
     ]
    },
    {
     "ename": "AssertionError",
     "evalue": "",
     "output_type": "error",
     "traceback": [
      "\u001b[1;31m---------------------------------------------------------------------------\u001b[0m",
      "\u001b[1;31mAssertionError\u001b[0m                            Traceback (most recent call last)",
      "\u001b[1;32m<ipython-input-381-7233663d9c26>\u001b[0m in \u001b[0;36m<module>\u001b[1;34m\u001b[0m\n\u001b[0;32m      1\u001b[0m \u001b[1;31m# Do not change the following line!\u001b[0m\u001b[1;33m\u001b[0m\u001b[1;33m\u001b[0m\u001b[1;33m\u001b[0m\u001b[0m\n\u001b[1;32m----> 2\u001b[1;33m \u001b[0mcheck\u001b[0m\u001b[1;33m(\u001b[0m\u001b[1;36m19\u001b[0m\u001b[1;33m,\u001b[0m \u001b[0mdepartment_lowest_salary_employees_sorted\u001b[0m\u001b[1;33m,\u001b[0m \u001b[1;34m\"c44f7791d81cf34f8b860e8070b0805a\"\u001b[0m\u001b[1;33m)\u001b[0m\u001b[1;33m\u001b[0m\u001b[1;33m\u001b[0m\u001b[0m\n\u001b[0m",
      "\u001b[1;32m<ipython-input-106-ad6553b318f8>\u001b[0m in \u001b[0;36mcheck\u001b[1;34m(question_number, result, md5_digest_of_expected_result)\u001b[0m\n\u001b[0;32m     14\u001b[0m     \u001b[1;32mif\u001b[0m \u001b[0mmd5_digest_of_result\u001b[0m \u001b[1;33m!=\u001b[0m \u001b[0mmd5_digest_of_expected_result\u001b[0m\u001b[1;33m:\u001b[0m\u001b[1;33m\u001b[0m\u001b[1;33m\u001b[0m\u001b[0m\n\u001b[0;32m     15\u001b[0m         \u001b[0mprint\u001b[0m\u001b[1;33m(\u001b[0m\u001b[1;34m\"ERROR: The result is NOT correct!\"\u001b[0m\u001b[1;33m)\u001b[0m\u001b[1;33m\u001b[0m\u001b[1;33m\u001b[0m\u001b[0m\n\u001b[1;32m---> 16\u001b[1;33m         \u001b[1;32massert\u001b[0m\u001b[1;33m(\u001b[0m\u001b[1;32mnot\u001b[0m \u001b[0mSTOP_AT_ERRORS\u001b[0m\u001b[1;33m)\u001b[0m\u001b[1;33m\u001b[0m\u001b[1;33m\u001b[0m\u001b[0m\n\u001b[0m\u001b[0;32m     17\u001b[0m     \u001b[1;32melse\u001b[0m\u001b[1;33m:\u001b[0m\u001b[1;33m\u001b[0m\u001b[1;33m\u001b[0m\u001b[0m\n\u001b[0;32m     18\u001b[0m         \u001b[0mprint\u001b[0m\u001b[1;33m(\u001b[0m\u001b[1;34m\"The result is CORRECT!\"\u001b[0m\u001b[1;33m)\u001b[0m\u001b[1;33m\u001b[0m\u001b[1;33m\u001b[0m\u001b[0m\n",
      "\u001b[1;31mAssertionError\u001b[0m: "
     ]
    }
   ],
   "source": [
    "# Do not change the following line!\n",
    "check(19, department_lowest_salary_employees_sorted, \"c44f7791d81cf34f8b860e8070b0805a\")"
   ]
  },
  {
   "cell_type": "markdown",
   "metadata": {},
   "source": [
    "<B>QUESTION #20</B>: Find the list of employees with salaries below \\\\$150K whose\n",
    "                     manager's budget is under \\\\$200K.\n",
    "                     Your answer should be a data frame with six columns:\n",
    "                     \"Employee Name\", \"Employee Last Name\", \"Employee Salary\",\n",
    "                     \"Manager Name\", \"Manager Last Name\", \"Manager Budget\" \n",
    "                     (in that order) and should be sorted by \"Employee Salary\" \n",
    "                     and \"Manager Budget\" in ascending order."
   ]
  },
  {
   "cell_type": "markdown",
   "metadata": {},
   "source": [
    "<B>SOLUTION</B>: "
   ]
  },
  {
   "cell_type": "code",
   "execution_count": 450,
   "metadata": {},
   "outputs": [
    {
     "data": {
      "text/html": [
       "<div>\n",
       "<style scoped>\n",
       "    .dataframe tbody tr th:only-of-type {\n",
       "        vertical-align: middle;\n",
       "    }\n",
       "\n",
       "    .dataframe tbody tr th {\n",
       "        vertical-align: top;\n",
       "    }\n",
       "\n",
       "    .dataframe thead th {\n",
       "        text-align: right;\n",
       "    }\n",
       "</style>\n",
       "<table border=\"1\" class=\"dataframe\">\n",
       "  <thead>\n",
       "    <tr style=\"text-align: right;\">\n",
       "      <th></th>\n",
       "      <th>Employee Name</th>\n",
       "      <th>Employee Last Name</th>\n",
       "      <th>Employee Salary</th>\n",
       "      <th>Manager Name</th>\n",
       "      <th>Manager Last Name</th>\n",
       "      <th>Manager Budget</th>\n",
       "    </tr>\n",
       "  </thead>\n",
       "  <tbody>\n",
       "    <tr>\n",
       "      <th>6</th>\n",
       "      <td>ZACK</td>\n",
       "      <td>ZIMMERMAN</td>\n",
       "      <td>43000</td>\n",
       "      <td>XIN</td>\n",
       "      <td>XIANG</td>\n",
       "      <td>93000</td>\n",
       "    </tr>\n",
       "    <tr>\n",
       "      <th>5</th>\n",
       "      <td>YANNY</td>\n",
       "      <td>YOUNG</td>\n",
       "      <td>50000</td>\n",
       "      <td>XIN</td>\n",
       "      <td>XIANG</td>\n",
       "      <td>93000</td>\n",
       "    </tr>\n",
       "    <tr>\n",
       "      <th>1</th>\n",
       "      <td>PENNY</td>\n",
       "      <td>PEABODY</td>\n",
       "      <td>60000</td>\n",
       "      <td>OSCAR</td>\n",
       "      <td>OSWALD</td>\n",
       "      <td>60000</td>\n",
       "    </tr>\n",
       "    <tr>\n",
       "      <th>3</th>\n",
       "      <td>RYAN</td>\n",
       "      <td>REDFORD</td>\n",
       "      <td>60000</td>\n",
       "      <td>QUINCY</td>\n",
       "      <td>QUINN</td>\n",
       "      <td>140000</td>\n",
       "    </tr>\n",
       "    <tr>\n",
       "      <th>0</th>\n",
       "      <td>OSCAR</td>\n",
       "      <td>OSWALD</td>\n",
       "      <td>80000</td>\n",
       "      <td>NANCY</td>\n",
       "      <td>NEWARK</td>\n",
       "      <td>80000</td>\n",
       "    </tr>\n",
       "    <tr>\n",
       "      <th>4</th>\n",
       "      <td>SALLY</td>\n",
       "      <td>SMITH</td>\n",
       "      <td>80000</td>\n",
       "      <td>QUINCY</td>\n",
       "      <td>QUINN</td>\n",
       "      <td>140000</td>\n",
       "    </tr>\n",
       "    <tr>\n",
       "      <th>2</th>\n",
       "      <td>QUINCY</td>\n",
       "      <td>QUINN</td>\n",
       "      <td>120000</td>\n",
       "      <td>RYAN</td>\n",
       "      <td>REDFORD</td>\n",
       "      <td>120000</td>\n",
       "    </tr>\n",
       "  </tbody>\n",
       "</table>\n",
       "</div>"
      ],
      "text/plain": [
       "  Employee Name Employee Last Name  Employee Salary Manager Name  \\\n",
       "6          ZACK          ZIMMERMAN            43000          XIN   \n",
       "5         YANNY              YOUNG            50000          XIN   \n",
       "1         PENNY            PEABODY            60000        OSCAR   \n",
       "3          RYAN            REDFORD            60000       QUINCY   \n",
       "0         OSCAR             OSWALD            80000        NANCY   \n",
       "4         SALLY              SMITH            80000       QUINCY   \n",
       "2        QUINCY              QUINN           120000         RYAN   \n",
       "\n",
       "  Manager Last Name  Manager Budget  \n",
       "6             XIANG           93000  \n",
       "5             XIANG           93000  \n",
       "1            OSWALD           60000  \n",
       "3             QUINN          140000  \n",
       "0            NEWARK           80000  \n",
       "4             QUINN          140000  \n",
       "2           REDFORD          120000  "
      ]
     },
     "execution_count": 450,
     "metadata": {},
     "output_type": "execute_result"
    }
   ],
   "source": [
    "employees_with_low_salaries = employees[employees['Salary'] < 150000]\n",
    "manager_budgets = employees.groupby('Manager ID').Salary.sum().reset_index(name='Manager Budget')\n",
    "managers_with_high_budget = manager_budgets[manager_budgets['Manager Budget'] < 200000]\n",
    "managers_with_high_budget = employees_with_low_salaries.merge(managers_with_high_budget, on='Manager ID').merge(employees_with_low_salaries, right_on='Employee ID', left_on='Manager ID'),[[ 'Employee Name', 'Employee Last Name', 'Employee Salary', 'Manager Name', 'Manager Last Name', 'Manager Budget']]\n",
    "employees_with_low_salaries_sorted.sort_values(by=['Employee Salary', 'Manager Budget'])\n",
    "employees_with_low_salaries_sorted\n",
    "                                                                                                          "
   ]
  },
  {
   "cell_type": "code",
   "execution_count": 451,
   "metadata": {},
   "outputs": [
    {
     "name": "stdout",
     "output_type": "stream",
     "text": [
      "The result is CORRECT!\n"
     ]
    }
   ],
   "source": [
    "# Do not change the following line!\n",
    "check(20, employees_with_low_salaries_sorted, \"3418fd0a8b0def15091b9cdec3016de7\")"
   ]
  }
 ],
 "metadata": {
  "kernelspec": {
   "display_name": "Python 3",
   "language": "python",
   "name": "python3"
  },
  "language_info": {
   "codemirror_mode": {
    "name": "ipython",
    "version": 3
   },
   "file_extension": ".py",
   "mimetype": "text/x-python",
   "name": "python",
   "nbconvert_exporter": "python",
   "pygments_lexer": "ipython3",
   "version": "3.8.5"
  }
 },
 "nbformat": 4,
 "nbformat_minor": 4
}
